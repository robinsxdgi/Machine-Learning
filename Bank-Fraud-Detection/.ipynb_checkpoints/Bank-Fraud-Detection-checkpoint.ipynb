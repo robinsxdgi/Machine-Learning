{
 "cells": [
  {
   "cell_type": "markdown",
   "metadata": {},
   "source": [
    "# Project: Bank Fraud Detection"
   ]
  },
  {
   "cell_type": "markdown",
   "metadata": {},
   "source": [
    "**We will use logistic regression and neural network to solve a bank fraud detection case.**"
   ]
  },
  {
   "cell_type": "code",
   "execution_count": 230,
   "metadata": {},
   "outputs": [],
   "source": [
    "import numpy as np\n",
    "import pandas as pd\n",
    "import matplotlib.pyplot as plt\n",
    "import seaborn as sns\n",
    "%matplotlib inline\n",
    "from sklearn import datasets, model_selection, linear_model, metrics, tree, svm\n",
    "from sklearn.metrics import classification_report\n",
    "import os"
   ]
  },
  {
   "cell_type": "markdown",
   "metadata": {},
   "source": [
    "**Data:**\n",
    "There are 23 features for each user, which are discribed below\n",
    "\n",
    "**id**: A unique Id field which represents a customer\n",
    "\n",
    "**X1**: Credit line\n",
    "\n",
    "**X2**: Gender (1 = male; 2 = female).\n",
    "\n",
    "**X3**: Education (1 = graduate school; 2 = university; 3 = high school; 4 = others). \n",
    "\n",
    "**X4**: Marital status (1 = married; 2 = single; 3 = others).\n",
    "\n",
    "**X5**: Age (year).\n",
    "\n",
    "**X6 - X11**: History of past payment. \n",
    "\n",
    "**X6** = September, 2015;\n",
    "\n",
    "**X7** = August, 2015;\n",
    "\n",
    "**...**\n",
    "\n",
    "**X11** =April, 2015; where -1 = pay one month ahead; -2 = pay two month ahead; 0 = pay on time; Positive means the payment delayed months, 1 = delay 1 month, 2 = delay 2 months, etc.\n",
    "\n",
    "**X12- X17**: Amount in bill statement.\n",
    "\n",
    "**X12** = amount of bill statement September, 2015\n",
    "\n",
    "**X13** = amount of bill statement August, 2015\n",
    "\n",
    "**...**\n",
    "\n",
    "**X17** = amount of bill statement April, 2015. \n",
    "\n",
    "**X18-X23**: Amount of previous payment\n",
    "\n",
    "**X18** = amount paid in September, 2015; \n",
    "\n",
    "**X19** = amount paid in August, 2015; \n",
    "\n",
    "**...**\n",
    "\n",
    "**X23** = amount paid in April, 2015.\n",
    "\n",
    "**Y**: Whether the customer is creditable (1) or not (0)."
   ]
  },
  {
   "cell_type": "markdown",
   "metadata": {},
   "source": [
    "### 1. Load data"
   ]
  },
  {
   "cell_type": "code",
   "execution_count": 289,
   "metadata": {},
   "outputs": [
    {
     "data": {
      "text/html": [
       "<div>\n",
       "<style scoped>\n",
       "    .dataframe tbody tr th:only-of-type {\n",
       "        vertical-align: middle;\n",
       "    }\n",
       "\n",
       "    .dataframe tbody tr th {\n",
       "        vertical-align: top;\n",
       "    }\n",
       "\n",
       "    .dataframe thead th {\n",
       "        text-align: right;\n",
       "    }\n",
       "</style>\n",
       "<table border=\"1\" class=\"dataframe\">\n",
       "  <thead>\n",
       "    <tr style=\"text-align: right;\">\n",
       "      <th></th>\n",
       "      <th>id</th>\n",
       "      <th>X1</th>\n",
       "      <th>X2</th>\n",
       "      <th>X3</th>\n",
       "      <th>X4</th>\n",
       "      <th>X5</th>\n",
       "      <th>X6</th>\n",
       "      <th>X7</th>\n",
       "      <th>X8</th>\n",
       "      <th>X9</th>\n",
       "      <th>...</th>\n",
       "      <th>X15</th>\n",
       "      <th>X16</th>\n",
       "      <th>X17</th>\n",
       "      <th>X18</th>\n",
       "      <th>X19</th>\n",
       "      <th>X20</th>\n",
       "      <th>X21</th>\n",
       "      <th>X22</th>\n",
       "      <th>X23</th>\n",
       "      <th>Y</th>\n",
       "    </tr>\n",
       "  </thead>\n",
       "  <tbody>\n",
       "    <tr>\n",
       "      <td>0</td>\n",
       "      <td>1</td>\n",
       "      <td>200000</td>\n",
       "      <td>2</td>\n",
       "      <td>3</td>\n",
       "      <td>1</td>\n",
       "      <td>53</td>\n",
       "      <td>0</td>\n",
       "      <td>0</td>\n",
       "      <td>0</td>\n",
       "      <td>0</td>\n",
       "      <td>...</td>\n",
       "      <td>133207</td>\n",
       "      <td>136159</td>\n",
       "      <td>138741</td>\n",
       "      <td>6500</td>\n",
       "      <td>5000</td>\n",
       "      <td>5000</td>\n",
       "      <td>5100</td>\n",
       "      <td>5000</td>\n",
       "      <td>5400</td>\n",
       "      <td>0</td>\n",
       "    </tr>\n",
       "    <tr>\n",
       "      <td>1</td>\n",
       "      <td>2</td>\n",
       "      <td>130000</td>\n",
       "      <td>2</td>\n",
       "      <td>3</td>\n",
       "      <td>2</td>\n",
       "      <td>39</td>\n",
       "      <td>0</td>\n",
       "      <td>0</td>\n",
       "      <td>0</td>\n",
       "      <td>2</td>\n",
       "      <td>...</td>\n",
       "      <td>130814</td>\n",
       "      <td>130758</td>\n",
       "      <td>123468</td>\n",
       "      <td>7500</td>\n",
       "      <td>10000</td>\n",
       "      <td>0</td>\n",
       "      <td>4500</td>\n",
       "      <td>4500</td>\n",
       "      <td>4179</td>\n",
       "      <td>0</td>\n",
       "    </tr>\n",
       "    <tr>\n",
       "      <td>2</td>\n",
       "      <td>3</td>\n",
       "      <td>350000</td>\n",
       "      <td>2</td>\n",
       "      <td>1</td>\n",
       "      <td>2</td>\n",
       "      <td>41</td>\n",
       "      <td>0</td>\n",
       "      <td>0</td>\n",
       "      <td>0</td>\n",
       "      <td>0</td>\n",
       "      <td>...</td>\n",
       "      <td>119947</td>\n",
       "      <td>117328</td>\n",
       "      <td>118400</td>\n",
       "      <td>6000</td>\n",
       "      <td>5900</td>\n",
       "      <td>5800</td>\n",
       "      <td>4100</td>\n",
       "      <td>4500</td>\n",
       "      <td>5000</td>\n",
       "      <td>0</td>\n",
       "    </tr>\n",
       "    <tr>\n",
       "      <td>3</td>\n",
       "      <td>4</td>\n",
       "      <td>240000</td>\n",
       "      <td>2</td>\n",
       "      <td>2</td>\n",
       "      <td>1</td>\n",
       "      <td>43</td>\n",
       "      <td>1</td>\n",
       "      <td>-2</td>\n",
       "      <td>-2</td>\n",
       "      <td>-1</td>\n",
       "      <td>...</td>\n",
       "      <td>12700</td>\n",
       "      <td>12500</td>\n",
       "      <td>26225</td>\n",
       "      <td>0</td>\n",
       "      <td>0</td>\n",
       "      <td>12700</td>\n",
       "      <td>0</td>\n",
       "      <td>13725</td>\n",
       "      <td>0</td>\n",
       "      <td>0</td>\n",
       "    </tr>\n",
       "    <tr>\n",
       "      <td>4</td>\n",
       "      <td>5</td>\n",
       "      <td>180000</td>\n",
       "      <td>1</td>\n",
       "      <td>2</td>\n",
       "      <td>2</td>\n",
       "      <td>28</td>\n",
       "      <td>-1</td>\n",
       "      <td>-1</td>\n",
       "      <td>-1</td>\n",
       "      <td>-1</td>\n",
       "      <td>...</td>\n",
       "      <td>332</td>\n",
       "      <td>416</td>\n",
       "      <td>416</td>\n",
       "      <td>0</td>\n",
       "      <td>416</td>\n",
       "      <td>332</td>\n",
       "      <td>500</td>\n",
       "      <td>3500</td>\n",
       "      <td>832</td>\n",
       "      <td>0</td>\n",
       "    </tr>\n",
       "  </tbody>\n",
       "</table>\n",
       "<p>5 rows × 25 columns</p>\n",
       "</div>"
      ],
      "text/plain": [
       "   id      X1  X2  X3  X4  X5  X6  X7  X8  X9  ...     X15     X16     X17  \\\n",
       "0   1  200000   2   3   1  53   0   0   0   0  ...  133207  136159  138741   \n",
       "1   2  130000   2   3   2  39   0   0   0   2  ...  130814  130758  123468   \n",
       "2   3  350000   2   1   2  41   0   0   0   0  ...  119947  117328  118400   \n",
       "3   4  240000   2   2   1  43   1  -2  -2  -1  ...   12700   12500   26225   \n",
       "4   5  180000   1   2   2  28  -1  -1  -1  -1  ...     332     416     416   \n",
       "\n",
       "    X18    X19    X20   X21    X22   X23  Y  \n",
       "0  6500   5000   5000  5100   5000  5400  0  \n",
       "1  7500  10000      0  4500   4500  4179  0  \n",
       "2  6000   5900   5800  4100   4500  5000  0  \n",
       "3     0      0  12700     0  13725     0  0  \n",
       "4     0    416    332   500   3500   832  0  \n",
       "\n",
       "[5 rows x 25 columns]"
      ]
     },
     "execution_count": 289,
     "metadata": {},
     "output_type": "execute_result"
    }
   ],
   "source": [
    "train = pd.read_csv('/Users/Rockwell/Desktop/Bank-Fraud-Detection/train.csv')\n",
    "train.head()"
   ]
  },
  {
   "cell_type": "code",
   "execution_count": 290,
   "metadata": {},
   "outputs": [
    {
     "data": {
      "text/plain": [
       "(25000, 25)"
      ]
     },
     "execution_count": 290,
     "metadata": {},
     "output_type": "execute_result"
    }
   ],
   "source": [
    "train.shape"
   ]
  },
  {
   "cell_type": "code",
   "execution_count": 291,
   "metadata": {},
   "outputs": [
    {
     "data": {
      "text/plain": [
       "0"
      ]
     },
     "execution_count": 291,
     "metadata": {},
     "output_type": "execute_result"
    }
   ],
   "source": [
    "# check missing values\n",
    "train.isna().sum().sum() "
   ]
  },
  {
   "cell_type": "markdown",
   "metadata": {},
   "source": [
    "**Hence, no missing value.**"
   ]
  },
  {
   "cell_type": "code",
   "execution_count": 292,
   "metadata": {},
   "outputs": [
    {
     "data": {
      "text/plain": [
       "id     int64\n",
       "X1     int64\n",
       "X2     int64\n",
       "X3     int64\n",
       "X4     int64\n",
       "X5     int64\n",
       "X6     int64\n",
       "X7     int64\n",
       "X8     int64\n",
       "X9     int64\n",
       "X10    int64\n",
       "X11    int64\n",
       "X12    int64\n",
       "X13    int64\n",
       "X14    int64\n",
       "X15    int64\n",
       "X16    int64\n",
       "X17    int64\n",
       "X18    int64\n",
       "X19    int64\n",
       "X20    int64\n",
       "X21    int64\n",
       "X22    int64\n",
       "X23    int64\n",
       "Y      int64\n",
       "dtype: object"
      ]
     },
     "execution_count": 292,
     "metadata": {},
     "output_type": "execute_result"
    }
   ],
   "source": [
    "# Check the value types\n",
    "train.dtypes"
   ]
  },
  {
   "cell_type": "markdown",
   "metadata": {},
   "source": [
    "**All in integers.**"
   ]
  },
  {
   "cell_type": "code",
   "execution_count": 293,
   "metadata": {},
   "outputs": [
    {
     "data": {
      "text/plain": [
       "id     25000\n",
       "X1        79\n",
       "X2         2\n",
       "X3         7\n",
       "X4         4\n",
       "X5        56\n",
       "X6        11\n",
       "X7        11\n",
       "X8        11\n",
       "X9        11\n",
       "X10       10\n",
       "X11       10\n",
       "X12    19387\n",
       "X13    19025\n",
       "X14    18745\n",
       "X15    18423\n",
       "X16    17923\n",
       "X17    17577\n",
       "X18     7150\n",
       "X19     7062\n",
       "X20     6697\n",
       "X21     6217\n",
       "X22     6143\n",
       "X23     6169\n",
       "Y          2\n",
       "dtype: int64"
      ]
     },
     "execution_count": 293,
     "metadata": {},
     "output_type": "execute_result"
    }
   ],
   "source": [
    "# find the categorical features\n",
    "train.nunique()"
   ]
  },
  {
   "cell_type": "markdown",
   "metadata": {},
   "source": [
    "### 2. Feature engineering"
   ]
  },
  {
   "cell_type": "markdown",
   "metadata": {},
   "source": [
    "**It can be seen that X2, X3, X4 are categorical features, i.e.,**\n",
    "\n",
    "**X2**: Gender (1 = male; 2 = female).\n",
    "\n",
    "**X3**: Education (1 = graduate school; 2 = university; 3 = high school; 4 = others). \n",
    "\n",
    "**X4**: Marital status (1 = married; 2 = single; 3 = others).\n",
    "\n",
    "**Also X1, X5, X6 - X11 are discrete features**\n",
    "\n",
    "**X1**: Credit line\n",
    "\n",
    "**X5**: Age (year).\n",
    "\n",
    "**X6 - X11**: History of past payment, where -1 = pay one month ahead; -2 = pay two month ahead; 0 = pay on time; Positive means the payment delayed months, 1 = delay 1 month, 2 = delay 2 months, etc.\n",
    "\n",
    "**Last other features are continuous features**\n",
    "\n",
    "**X12- X17**: Amount in bill statement.\n",
    "\n",
    "**X18-X23**: Amount of previous payment"
   ]
  },
  {
   "cell_type": "code",
   "execution_count": 294,
   "metadata": {},
   "outputs": [
    {
     "data": {
      "image/png": "[encoded data removed]",
      "text/plain": [
       "<Figure size 720x576 with 2 Axes>"
      ]
     },
     "metadata": {
      "needs_background": "light"
     },
     "output_type": "display_data"
    }
   ],
   "source": [
    "# Check the correlations (it doesn't hurt to include all, since they are all ingeters)\n",
    "plt.figure(figsize=(10,8))\n",
    "sns.heatmap(train.corr(), vmin=-1, vmax=1)\n",
    "plt.show()"
   ]
  },
  {
   "cell_type": "markdown",
   "metadata": {},
   "source": [
    "**From the above figure, we can find X4 and X5 has negative correlation, pairs in X12-X17 have positive correlation. For accuracy we use values to decide. Let %97.5 be a threshold.**"
   ]
  },
  {
   "cell_type": "code",
   "execution_count": 295,
   "metadata": {},
   "outputs": [],
   "source": [
    "# select the upper triangle matrix of the correlation matrix\n",
    "df_corr = train.corr()\n",
    "df_corr_upper = pd.DataFrame(np.triu(df_corr, k=1)).abs()"
   ]
  },
  {
   "cell_type": "code",
   "execution_count": 296,
   "metadata": {},
   "outputs": [
    {
     "data": {
      "text/plain": [
       "[]"
      ]
     },
     "execution_count": 296,
     "metadata": {},
     "output_type": "execute_result"
    }
   ],
   "source": [
    "# column indices with abs correlation larger than the threshold.\n",
    "dropcols_index = [j for j in range(len(df_corr_upper.columns)) if any(df_corr_upper.iloc[:,j] > 0.975)]\n",
    "dropcols_index"
   ]
  },
  {
   "cell_type": "markdown",
   "metadata": {},
   "source": [
    "**Hence, no strong correlation over the threshold, 97.5%**"
   ]
  },
  {
   "cell_type": "markdown",
   "metadata": {},
   "source": [
    "**Categorical feature encoding: one-hot encoding will be used in this analysis**"
   ]
  },
  {
   "cell_type": "code",
   "execution_count": 297,
   "metadata": {},
   "outputs": [
    {
     "data": {
      "text/html": [
       "<div>\n",
       "<style scoped>\n",
       "    .dataframe tbody tr th:only-of-type {\n",
       "        vertical-align: middle;\n",
       "    }\n",
       "\n",
       "    .dataframe tbody tr th {\n",
       "        vertical-align: top;\n",
       "    }\n",
       "\n",
       "    .dataframe thead th {\n",
       "        text-align: right;\n",
       "    }\n",
       "</style>\n",
       "<table border=\"1\" class=\"dataframe\">\n",
       "  <thead>\n",
       "    <tr style=\"text-align: right;\">\n",
       "      <th></th>\n",
       "      <th>id</th>\n",
       "      <th>X1</th>\n",
       "      <th>X5</th>\n",
       "      <th>X6</th>\n",
       "      <th>X7</th>\n",
       "      <th>X8</th>\n",
       "      <th>X9</th>\n",
       "      <th>X10</th>\n",
       "      <th>X11</th>\n",
       "      <th>X12</th>\n",
       "      <th>...</th>\n",
       "      <th>X3_1</th>\n",
       "      <th>X3_2</th>\n",
       "      <th>X3_3</th>\n",
       "      <th>X3_4</th>\n",
       "      <th>X3_5</th>\n",
       "      <th>X3_6</th>\n",
       "      <th>X4_0</th>\n",
       "      <th>X4_1</th>\n",
       "      <th>X4_2</th>\n",
       "      <th>X4_3</th>\n",
       "    </tr>\n",
       "  </thead>\n",
       "  <tbody>\n",
       "    <tr>\n",
       "      <td>0</td>\n",
       "      <td>1</td>\n",
       "      <td>200000</td>\n",
       "      <td>53</td>\n",
       "      <td>0</td>\n",
       "      <td>0</td>\n",
       "      <td>0</td>\n",
       "      <td>0</td>\n",
       "      <td>0</td>\n",
       "      <td>0</td>\n",
       "      <td>126027</td>\n",
       "      <td>...</td>\n",
       "      <td>0</td>\n",
       "      <td>0</td>\n",
       "      <td>1</td>\n",
       "      <td>0</td>\n",
       "      <td>0</td>\n",
       "      <td>0</td>\n",
       "      <td>0</td>\n",
       "      <td>1</td>\n",
       "      <td>0</td>\n",
       "      <td>0</td>\n",
       "    </tr>\n",
       "    <tr>\n",
       "      <td>1</td>\n",
       "      <td>2</td>\n",
       "      <td>130000</td>\n",
       "      <td>39</td>\n",
       "      <td>0</td>\n",
       "      <td>0</td>\n",
       "      <td>0</td>\n",
       "      <td>2</td>\n",
       "      <td>0</td>\n",
       "      <td>0</td>\n",
       "      <td>133825</td>\n",
       "      <td>...</td>\n",
       "      <td>0</td>\n",
       "      <td>0</td>\n",
       "      <td>1</td>\n",
       "      <td>0</td>\n",
       "      <td>0</td>\n",
       "      <td>0</td>\n",
       "      <td>0</td>\n",
       "      <td>0</td>\n",
       "      <td>1</td>\n",
       "      <td>0</td>\n",
       "    </tr>\n",
       "    <tr>\n",
       "      <td>2</td>\n",
       "      <td>3</td>\n",
       "      <td>350000</td>\n",
       "      <td>41</td>\n",
       "      <td>0</td>\n",
       "      <td>0</td>\n",
       "      <td>0</td>\n",
       "      <td>0</td>\n",
       "      <td>0</td>\n",
       "      <td>0</td>\n",
       "      <td>122017</td>\n",
       "      <td>...</td>\n",
       "      <td>1</td>\n",
       "      <td>0</td>\n",
       "      <td>0</td>\n",
       "      <td>0</td>\n",
       "      <td>0</td>\n",
       "      <td>0</td>\n",
       "      <td>0</td>\n",
       "      <td>0</td>\n",
       "      <td>1</td>\n",
       "      <td>0</td>\n",
       "    </tr>\n",
       "    <tr>\n",
       "      <td>3</td>\n",
       "      <td>4</td>\n",
       "      <td>240000</td>\n",
       "      <td>43</td>\n",
       "      <td>1</td>\n",
       "      <td>-2</td>\n",
       "      <td>-2</td>\n",
       "      <td>-1</td>\n",
       "      <td>0</td>\n",
       "      <td>0</td>\n",
       "      <td>0</td>\n",
       "      <td>...</td>\n",
       "      <td>0</td>\n",
       "      <td>1</td>\n",
       "      <td>0</td>\n",
       "      <td>0</td>\n",
       "      <td>0</td>\n",
       "      <td>0</td>\n",
       "      <td>0</td>\n",
       "      <td>1</td>\n",
       "      <td>0</td>\n",
       "      <td>0</td>\n",
       "    </tr>\n",
       "    <tr>\n",
       "      <td>4</td>\n",
       "      <td>5</td>\n",
       "      <td>180000</td>\n",
       "      <td>28</td>\n",
       "      <td>-1</td>\n",
       "      <td>-1</td>\n",
       "      <td>-1</td>\n",
       "      <td>-1</td>\n",
       "      <td>-1</td>\n",
       "      <td>-1</td>\n",
       "      <td>1832</td>\n",
       "      <td>...</td>\n",
       "      <td>0</td>\n",
       "      <td>1</td>\n",
       "      <td>0</td>\n",
       "      <td>0</td>\n",
       "      <td>0</td>\n",
       "      <td>0</td>\n",
       "      <td>0</td>\n",
       "      <td>0</td>\n",
       "      <td>1</td>\n",
       "      <td>0</td>\n",
       "    </tr>\n",
       "    <tr>\n",
       "      <td>...</td>\n",
       "      <td>...</td>\n",
       "      <td>...</td>\n",
       "      <td>...</td>\n",
       "      <td>...</td>\n",
       "      <td>...</td>\n",
       "      <td>...</td>\n",
       "      <td>...</td>\n",
       "      <td>...</td>\n",
       "      <td>...</td>\n",
       "      <td>...</td>\n",
       "      <td>...</td>\n",
       "      <td>...</td>\n",
       "      <td>...</td>\n",
       "      <td>...</td>\n",
       "      <td>...</td>\n",
       "      <td>...</td>\n",
       "      <td>...</td>\n",
       "      <td>...</td>\n",
       "      <td>...</td>\n",
       "      <td>...</td>\n",
       "      <td>...</td>\n",
       "    </tr>\n",
       "    <tr>\n",
       "      <td>24995</td>\n",
       "      <td>24996</td>\n",
       "      <td>300000</td>\n",
       "      <td>56</td>\n",
       "      <td>1</td>\n",
       "      <td>-2</td>\n",
       "      <td>-2</td>\n",
       "      <td>-2</td>\n",
       "      <td>-2</td>\n",
       "      <td>-2</td>\n",
       "      <td>0</td>\n",
       "      <td>...</td>\n",
       "      <td>1</td>\n",
       "      <td>0</td>\n",
       "      <td>0</td>\n",
       "      <td>0</td>\n",
       "      <td>0</td>\n",
       "      <td>0</td>\n",
       "      <td>0</td>\n",
       "      <td>1</td>\n",
       "      <td>0</td>\n",
       "      <td>0</td>\n",
       "    </tr>\n",
       "    <tr>\n",
       "      <td>24996</td>\n",
       "      <td>24997</td>\n",
       "      <td>230000</td>\n",
       "      <td>36</td>\n",
       "      <td>0</td>\n",
       "      <td>0</td>\n",
       "      <td>0</td>\n",
       "      <td>2</td>\n",
       "      <td>0</td>\n",
       "      <td>0</td>\n",
       "      <td>3745</td>\n",
       "      <td>...</td>\n",
       "      <td>0</td>\n",
       "      <td>1</td>\n",
       "      <td>0</td>\n",
       "      <td>0</td>\n",
       "      <td>0</td>\n",
       "      <td>0</td>\n",
       "      <td>0</td>\n",
       "      <td>1</td>\n",
       "      <td>0</td>\n",
       "      <td>0</td>\n",
       "    </tr>\n",
       "    <tr>\n",
       "      <td>24997</td>\n",
       "      <td>24998</td>\n",
       "      <td>30000</td>\n",
       "      <td>23</td>\n",
       "      <td>2</td>\n",
       "      <td>2</td>\n",
       "      <td>2</td>\n",
       "      <td>2</td>\n",
       "      <td>2</td>\n",
       "      <td>2</td>\n",
       "      <td>34048</td>\n",
       "      <td>...</td>\n",
       "      <td>0</td>\n",
       "      <td>1</td>\n",
       "      <td>0</td>\n",
       "      <td>0</td>\n",
       "      <td>0</td>\n",
       "      <td>0</td>\n",
       "      <td>0</td>\n",
       "      <td>0</td>\n",
       "      <td>1</td>\n",
       "      <td>0</td>\n",
       "    </tr>\n",
       "    <tr>\n",
       "      <td>24998</td>\n",
       "      <td>24999</td>\n",
       "      <td>360000</td>\n",
       "      <td>36</td>\n",
       "      <td>0</td>\n",
       "      <td>0</td>\n",
       "      <td>0</td>\n",
       "      <td>0</td>\n",
       "      <td>0</td>\n",
       "      <td>0</td>\n",
       "      <td>28291</td>\n",
       "      <td>...</td>\n",
       "      <td>1</td>\n",
       "      <td>0</td>\n",
       "      <td>0</td>\n",
       "      <td>0</td>\n",
       "      <td>0</td>\n",
       "      <td>0</td>\n",
       "      <td>0</td>\n",
       "      <td>1</td>\n",
       "      <td>0</td>\n",
       "      <td>0</td>\n",
       "    </tr>\n",
       "    <tr>\n",
       "      <td>24999</td>\n",
       "      <td>25000</td>\n",
       "      <td>320000</td>\n",
       "      <td>41</td>\n",
       "      <td>-2</td>\n",
       "      <td>-2</td>\n",
       "      <td>-2</td>\n",
       "      <td>-2</td>\n",
       "      <td>-2</td>\n",
       "      <td>-2</td>\n",
       "      <td>2197</td>\n",
       "      <td>...</td>\n",
       "      <td>1</td>\n",
       "      <td>0</td>\n",
       "      <td>0</td>\n",
       "      <td>0</td>\n",
       "      <td>0</td>\n",
       "      <td>0</td>\n",
       "      <td>0</td>\n",
       "      <td>0</td>\n",
       "      <td>1</td>\n",
       "      <td>0</td>\n",
       "    </tr>\n",
       "  </tbody>\n",
       "</table>\n",
       "<p>25000 rows × 35 columns</p>\n",
       "</div>"
      ],
      "text/plain": [
       "          id      X1  X5  X6  X7  X8  X9  X10  X11     X12  ...  X3_1  X3_2  \\\n",
       "0          1  200000  53   0   0   0   0    0    0  126027  ...     0     0   \n",
       "1          2  130000  39   0   0   0   2    0    0  133825  ...     0     0   \n",
       "2          3  350000  41   0   0   0   0    0    0  122017  ...     1     0   \n",
       "3          4  240000  43   1  -2  -2  -1    0    0       0  ...     0     1   \n",
       "4          5  180000  28  -1  -1  -1  -1   -1   -1    1832  ...     0     1   \n",
       "...      ...     ...  ..  ..  ..  ..  ..  ...  ...     ...  ...   ...   ...   \n",
       "24995  24996  300000  56   1  -2  -2  -2   -2   -2       0  ...     1     0   \n",
       "24996  24997  230000  36   0   0   0   2    0    0    3745  ...     0     1   \n",
       "24997  24998   30000  23   2   2   2   2    2    2   34048  ...     0     1   \n",
       "24998  24999  360000  36   0   0   0   0    0    0   28291  ...     1     0   \n",
       "24999  25000  320000  41  -2  -2  -2  -2   -2   -2    2197  ...     1     0   \n",
       "\n",
       "       X3_3  X3_4  X3_5  X3_6  X4_0  X4_1  X4_2  X4_3  \n",
       "0         1     0     0     0     0     1     0     0  \n",
       "1         1     0     0     0     0     0     1     0  \n",
       "2         0     0     0     0     0     0     1     0  \n",
       "3         0     0     0     0     0     1     0     0  \n",
       "4         0     0     0     0     0     0     1     0  \n",
       "...     ...   ...   ...   ...   ...   ...   ...   ...  \n",
       "24995     0     0     0     0     0     1     0     0  \n",
       "24996     0     0     0     0     0     1     0     0  \n",
       "24997     0     0     0     0     0     0     1     0  \n",
       "24998     0     0     0     0     0     1     0     0  \n",
       "24999     0     0     0     0     0     0     1     0  \n",
       "\n",
       "[25000 rows x 35 columns]"
      ]
     },
     "execution_count": 297,
     "metadata": {},
     "output_type": "execute_result"
    }
   ],
   "source": [
    "# one-hot encoding for X2 (gender), X3(education), X4(martial status)\n",
    "train_onehot = train.copy()\n",
    "train_onehot = pd.get_dummies(train_onehot, columns=['X2', 'X3', 'X4'], prefix=['X2', 'X3', 'X4'])\n",
    "train_onehot"
   ]
  },
  {
   "cell_type": "code",
   "execution_count": 298,
   "metadata": {},
   "outputs": [],
   "source": [
    "# remove the id column\n",
    "train_onehot.drop(labels='id', axis=1, inplace=True)\n",
    "# move label column to the last\n",
    "feature_cols = [col for col in train_onehot.columns if col != 'Y']\n",
    "train_onehot = train_onehot[feature_cols + ['Y']]\n",
    "# split data to train and validation\n",
    "X_train, X_valid, y_train, y_valid = model_selection.train_test_split(train_onehot.iloc[:,:-1], train_onehot['Y'], test_size=0.2)"
   ]
  },
  {
   "cell_type": "code",
   "execution_count": 299,
   "metadata": {},
   "outputs": [
    {
     "name": "stdout",
     "output_type": "stream",
     "text": [
      "(20000, 33) (5000, 33) (20000,) (5000,)\n"
     ]
    }
   ],
   "source": [
    "print(X_train.shape, X_valid.shape, y_train.shape, y_valid.shape)"
   ]
  },
  {
   "cell_type": "markdown",
   "metadata": {},
   "source": [
    "### 3. Logistic regression"
   ]
  },
  {
   "cell_type": "code",
   "execution_count": 300,
   "metadata": {},
   "outputs": [],
   "source": [
    "# build logistic regression model\n",
    "lm_lr = linear_model.LogisticRegression(max_iter=1000, solver='lbfgs', tol=0.05, penalty='l2')"
   ]
  },
  {
   "cell_type": "code",
   "execution_count": 301,
   "metadata": {},
   "outputs": [
    {
     "data": {
      "text/plain": [
       "LogisticRegression(C=1.0, class_weight=None, dual=False, fit_intercept=True,\n",
       "                   intercept_scaling=1, l1_ratio=None, max_iter=1000,\n",
       "                   multi_class='warn', n_jobs=None, penalty='l2',\n",
       "                   random_state=None, solver='lbfgs', tol=0.05, verbose=0,\n",
       "                   warm_start=False)"
      ]
     },
     "execution_count": 301,
     "metadata": {},
     "output_type": "execute_result"
    }
   ],
   "source": [
    "lm_lr.fit(X_train, y_train)"
   ]
  },
  {
   "cell_type": "code",
   "execution_count": 302,
   "metadata": {},
   "outputs": [
    {
     "data": {
      "text/plain": [
       "array([[15589,  4407],\n",
       "       [    3,     1]])"
      ]
     },
     "execution_count": 302,
     "metadata": {},
     "output_type": "execute_result"
    }
   ],
   "source": [
    "# Confusion matrix for training set (col1-actual incredible, col2-actual credible)\n",
    "metrics.confusion_matrix(lm_lr.predict(X_train), y_train)"
   ]
  },
  {
   "cell_type": "code",
   "execution_count": 303,
   "metadata": {},
   "outputs": [
    {
     "data": {
      "text/plain": [
       "array([[3858, 1140],\n",
       "       [   2,    0]])"
      ]
     },
     "execution_count": 303,
     "metadata": {},
     "output_type": "execute_result"
    }
   ],
   "source": [
    "# Confusion matrix for validation set (col1-actual incredible, col2-actual credible)\n",
    "metrics.confusion_matrix(lm_lr.predict(X_valid), y_valid)"
   ]
  },
  {
   "cell_type": "code",
   "execution_count": 304,
   "metadata": {},
   "outputs": [
    {
     "name": "stdout",
     "output_type": "stream",
     "text": [
      "              precision    recall  f1-score   support\n",
      "\n",
      "  Incredible       0.78      1.00      0.88     15592\n",
      "    Credible       0.25      0.00      0.00      4408\n",
      "\n",
      "    accuracy                           0.78     20000\n",
      "   macro avg       0.51      0.50      0.44     20000\n",
      "weighted avg       0.66      0.78      0.68     20000\n",
      "\n"
     ]
    }
   ],
   "source": [
    "# Check the performance in the training data\n",
    "print(classification_report(y_train, lm_lr.predict(X_train), target_names=['Incredible', 'Credible']))"
   ]
  },
  {
   "cell_type": "code",
   "execution_count": 305,
   "metadata": {},
   "outputs": [
    {
     "name": "stdout",
     "output_type": "stream",
     "text": [
      "              precision    recall  f1-score   support\n",
      "\n",
      "  Incredible       0.77      1.00      0.87      3860\n",
      "    Credible       0.00      0.00      0.00      1140\n",
      "\n",
      "    accuracy                           0.77      5000\n",
      "   macro avg       0.39      0.50      0.44      5000\n",
      "weighted avg       0.60      0.77      0.67      5000\n",
      "\n"
     ]
    }
   ],
   "source": [
    "# Check the performance in the validation data\n",
    "print(classification_report(y_valid, lm_lr.predict(X_valid), target_names=['Incredible', 'Credible']))\n",
    "# Store the report to dataframe\n",
    "report = classification_report(y_valid, lm_lr.predict(X_valid), target_names=['Incredible', 'Credible'], output_dict=True)\n",
    "df_report_lm_lr = pd.DataFrame(report).transpose()"
   ]
  },
  {
   "cell_type": "markdown",
   "metadata": {},
   "source": [
    "**From the confusion matrices and performance reports for both training and validation sets, we can see the logistic regression model has a high recall on incredible users, which is actually a good aspects for fraud detection.**\n",
    "\n",
    "**However, the precision on incredible users are just 78% and there are only a few customers are recogonized as credible in the training data and 0 user recogonized as credible in the validation data. This could lead to a problem of mistakenly regarding too many valuable and credible users as bad users. Thus the credit card company might lose a lot of business opportunities and revenue from it. Hence the logistic regression model is not ideal enough and could be improved.**"
   ]
  },
  {
   "cell_type": "markdown",
   "metadata": {},
   "source": [
    "**If we use the original values without one-hot encoding**"
   ]
  },
  {
   "cell_type": "code",
   "execution_count": 306,
   "metadata": {},
   "outputs": [],
   "source": [
    "# split data to train and validation\n",
    "X_train, X_valid, y_train, y_valid = model_selection.train_test_split(train.iloc[:,:-1], train['Y'], test_size=0.2)"
   ]
  },
  {
   "cell_type": "code",
   "execution_count": 307,
   "metadata": {},
   "outputs": [
    {
     "name": "stdout",
     "output_type": "stream",
     "text": [
      "(20000, 24) (5000, 24) (20000,) (5000,)\n"
     ]
    }
   ],
   "source": [
    "print(X_train.shape, X_valid.shape, y_train.shape, y_valid.shape)"
   ]
  },
  {
   "cell_type": "code",
   "execution_count": 308,
   "metadata": {},
   "outputs": [
    {
     "data": {
      "text/plain": [
       "LogisticRegression(C=1.0, class_weight=None, dual=False, fit_intercept=True,\n",
       "                   intercept_scaling=1, l1_ratio=None, max_iter=1000,\n",
       "                   multi_class='warn', n_jobs=None, penalty='l2',\n",
       "                   random_state=None, solver='lbfgs', tol=0.05, verbose=0,\n",
       "                   warm_start=False)"
      ]
     },
     "execution_count": 308,
     "metadata": {},
     "output_type": "execute_result"
    }
   ],
   "source": [
    "# build logistic regression model\n",
    "lm_lr = linear_model.LogisticRegression(max_iter=1000, solver='lbfgs', tol=0.05, penalty='l2')\n",
    "lm_lr.fit(X_train, y_train)"
   ]
  },
  {
   "cell_type": "code",
   "execution_count": 309,
   "metadata": {},
   "outputs": [
    {
     "data": {
      "text/plain": [
       "array([[15550,  4447],\n",
       "       [    1,     2]])"
      ]
     },
     "execution_count": 309,
     "metadata": {},
     "output_type": "execute_result"
    }
   ],
   "source": [
    "# Confusion matrix for training set (col1-actual incredible, col2-actual credible)\n",
    "metrics.confusion_matrix(lm_lr.predict(X_train), y_train)"
   ]
  },
  {
   "cell_type": "code",
   "execution_count": 310,
   "metadata": {},
   "outputs": [
    {
     "data": {
      "text/plain": [
       "array([[3901, 1099],\n",
       "       [   0,    0]])"
      ]
     },
     "execution_count": 310,
     "metadata": {},
     "output_type": "execute_result"
    }
   ],
   "source": [
    "# Confusion matrix for validation set (col1-actual incredible, col2-actual credible)\n",
    "metrics.confusion_matrix(lm_lr.predict(X_valid), y_valid)"
   ]
  },
  {
   "cell_type": "code",
   "execution_count": 311,
   "metadata": {},
   "outputs": [
    {
     "name": "stdout",
     "output_type": "stream",
     "text": [
      "              precision    recall  f1-score   support\n",
      "\n",
      "  Incredible       0.78      1.00      0.87     15551\n",
      "    Credible       0.67      0.00      0.00      4449\n",
      "\n",
      "    accuracy                           0.78     20000\n",
      "   macro avg       0.72      0.50      0.44     20000\n",
      "weighted avg       0.75      0.78      0.68     20000\n",
      "\n"
     ]
    }
   ],
   "source": [
    "# Check the performance in the training data\n",
    "print(classification_report(y_train, lm_lr.predict(X_train), target_names=['Incredible', 'Credible']))"
   ]
  },
  {
   "cell_type": "code",
   "execution_count": 333,
   "metadata": {},
   "outputs": [
    {
     "name": "stdout",
     "output_type": "stream",
     "text": [
      "              precision    recall  f1-score   support\n",
      "\n",
      "  Incredible       0.78      1.00      0.88      3901\n",
      "    Credible       0.00      0.00      0.00      1099\n",
      "\n",
      "    accuracy                           0.78      5000\n",
      "   macro avg       0.39      0.50      0.44      5000\n",
      "weighted avg       0.61      0.78      0.68      5000\n",
      "\n"
     ]
    },
    {
     "name": "stderr",
     "output_type": "stream",
     "text": [
      "/Users/Rockwell/opt/anaconda3/lib/python3.7/site-packages/sklearn/metrics/classification.py:1437: UndefinedMetricWarning: Precision and F-score are ill-defined and being set to 0.0 in labels with no predicted samples.\n",
      "  'precision', 'predicted', average, warn_for)\n",
      "/Users/Rockwell/opt/anaconda3/lib/python3.7/site-packages/sklearn/metrics/classification.py:1437: UndefinedMetricWarning: Precision and F-score are ill-defined and being set to 0.0 in labels with no predicted samples.\n",
      "  'precision', 'predicted', average, warn_for)\n"
     ]
    }
   ],
   "source": [
    "# Check the performance in the validation data\n",
    "print(classification_report(y_valid, lm_lr.predict(X_valid), target_names=['Incredible', 'Credible']))\n",
    "# Store the report to dataframe\n",
    "report = classification_report(y_valid, lm_lr.predict(X_valid), target_names=['Incredible', 'Credible'], output_dict=True)\n",
    "df_report_lm_lr_no_onehot = pd.DataFrame(report).transpose()"
   ]
  },
  {
   "cell_type": "markdown",
   "metadata": {},
   "source": [
    "**It can be seen that without one-hot encoding, the performance is almost the same.**"
   ]
  },
  {
   "cell_type": "markdown",
   "metadata": {},
   "source": [
    "**If we use decision tree, instead**"
   ]
  },
  {
   "cell_type": "code",
   "execution_count": 313,
   "metadata": {},
   "outputs": [
    {
     "data": {
      "text/plain": [
       "DecisionTreeClassifier(class_weight=None, criterion='gini', max_depth=None,\n",
       "                       max_features=None, max_leaf_nodes=None,\n",
       "                       min_impurity_decrease=0.0, min_impurity_split=None,\n",
       "                       min_samples_leaf=1, min_samples_split=2,\n",
       "                       min_weight_fraction_leaf=0.0, presort=False,\n",
       "                       random_state=None, splitter='best')"
      ]
     },
     "execution_count": 313,
     "metadata": {},
     "output_type": "execute_result"
    }
   ],
   "source": [
    "# build decision tree model\n",
    "d_dtc = tree.DecisionTreeClassifier()\n",
    "d_dtc.fit(X_train, y_train)"
   ]
  },
  {
   "cell_type": "code",
   "execution_count": 314,
   "metadata": {},
   "outputs": [
    {
     "data": {
      "text/plain": [
       "array([[15551,     0],\n",
       "       [    0,  4449]])"
      ]
     },
     "execution_count": 314,
     "metadata": {},
     "output_type": "execute_result"
    }
   ],
   "source": [
    "metrics.confusion_matrix(d_dtc.predict(X_train), y_train)"
   ]
  },
  {
   "cell_type": "code",
   "execution_count": 315,
   "metadata": {},
   "outputs": [
    {
     "data": {
      "text/plain": [
       "array([[3169,  649],\n",
       "       [ 732,  450]])"
      ]
     },
     "execution_count": 315,
     "metadata": {},
     "output_type": "execute_result"
    }
   ],
   "source": [
    "metrics.confusion_matrix(d_dtc.predict(X_valid), y_valid)"
   ]
  },
  {
   "cell_type": "code",
   "execution_count": 316,
   "metadata": {},
   "outputs": [
    {
     "name": "stdout",
     "output_type": "stream",
     "text": [
      "              precision    recall  f1-score   support\n",
      "\n",
      "  Incredible       1.00      1.00      1.00     15551\n",
      "    Credible       1.00      1.00      1.00      4449\n",
      "\n",
      "    accuracy                           1.00     20000\n",
      "   macro avg       1.00      1.00      1.00     20000\n",
      "weighted avg       1.00      1.00      1.00     20000\n",
      "\n"
     ]
    }
   ],
   "source": [
    "# Check the performance in the training data\n",
    "print(classification_report(y_train, d_dtc.predict(X_train), target_names=['Incredible', 'Credible']))"
   ]
  },
  {
   "cell_type": "code",
   "execution_count": 317,
   "metadata": {},
   "outputs": [
    {
     "name": "stdout",
     "output_type": "stream",
     "text": [
      "              precision    recall  f1-score   support\n",
      "\n",
      "  Incredible       0.83      0.81      0.82      3901\n",
      "    Credible       0.38      0.41      0.39      1099\n",
      "\n",
      "    accuracy                           0.72      5000\n",
      "   macro avg       0.61      0.61      0.61      5000\n",
      "weighted avg       0.73      0.72      0.73      5000\n",
      "\n"
     ]
    }
   ],
   "source": [
    "# Check the performance in the validation data\n",
    "print(classification_report(y_valid, d_dtc.predict(X_valid), target_names=['Incredible', 'Credible']))"
   ]
  },
  {
   "cell_type": "markdown",
   "metadata": {},
   "source": [
    "**It can be seen from the above results, decision tree model generate a better performance than logistic regression, F1-score for weighted avg is 0.73 > 0.69**\n",
    "\n",
    "**Even though the recall for credible users increase a lot, the recall for the incredible users descrease from 1 to 0.82. Also the trained model performs perfect on training set but not very good on validation set, which means we overfit the model, so some parameters should be tuned**\n",
    "\n",
    "**First to simplify the tree structure, limit the maximum layers to a lower number**"
   ]
  },
  {
   "cell_type": "code",
   "execution_count": 318,
   "metadata": {},
   "outputs": [
    {
     "data": {
      "text/plain": [
       "DecisionTreeClassifier(class_weight=None, criterion='gini', max_depth=5,\n",
       "                       max_features=None, max_leaf_nodes=None,\n",
       "                       min_impurity_decrease=0.0, min_impurity_split=None,\n",
       "                       min_samples_leaf=1, min_samples_split=2,\n",
       "                       min_weight_fraction_leaf=0.0, presort=False,\n",
       "                       random_state=None, splitter='best')"
      ]
     },
     "execution_count": 318,
     "metadata": {},
     "output_type": "execute_result"
    }
   ],
   "source": [
    "# build decision tree model\n",
    "d_dtc = tree.DecisionTreeClassifier(max_depth=5)\n",
    "d_dtc.fit(X_train, y_train)"
   ]
  },
  {
   "cell_type": "code",
   "execution_count": 319,
   "metadata": {},
   "outputs": [
    {
     "name": "stdout",
     "output_type": "stream",
     "text": [
      "              precision    recall  f1-score   support\n",
      "\n",
      "  Incredible       0.84      0.96      0.89     15551\n",
      "    Credible       0.70      0.37      0.48      4449\n",
      "\n",
      "    accuracy                           0.83     20000\n",
      "   macro avg       0.77      0.66      0.69     20000\n",
      "weighted avg       0.81      0.83      0.80     20000\n",
      "\n"
     ]
    }
   ],
   "source": [
    "# Check the performance in the training data\n",
    "print(classification_report(y_train, d_dtc.predict(X_train), target_names=['Incredible', 'Credible']))"
   ]
  },
  {
   "cell_type": "code",
   "execution_count": 320,
   "metadata": {},
   "outputs": [
    {
     "name": "stdout",
     "output_type": "stream",
     "text": [
      "              precision    recall  f1-score   support\n",
      "\n",
      "  Incredible       0.84      0.95      0.89      3901\n",
      "    Credible       0.65      0.34      0.44      1099\n",
      "\n",
      "    accuracy                           0.81      5000\n",
      "   macro avg       0.74      0.64      0.67      5000\n",
      "weighted avg       0.79      0.81      0.79      5000\n",
      "\n"
     ]
    }
   ],
   "source": [
    "# Check the performance in the validation data\n",
    "print(classification_report(y_valid, d_dtc.predict(X_valid), target_names=['Incredible', 'Credible']))\n",
    "# Store the report to dataframe\n",
    "report = classification_report(y_valid, d_dtc.predict(X_valid), target_names=['Incredible', 'Credible'], output_dict=True)\n",
    "df_report_d_dtc = pd.DataFrame(report).transpose()"
   ]
  },
  {
   "cell_type": "markdown",
   "metadata": {},
   "source": [
    "**After tests, 5 seems to be the best max_depth of the decision tree here**"
   ]
  },
  {
   "cell_type": "markdown",
   "metadata": {},
   "source": [
    "**If we use SVM instead**"
   ]
  },
  {
   "cell_type": "code",
   "execution_count": 277,
   "metadata": {},
   "outputs": [
    {
     "name": "stderr",
     "output_type": "stream",
     "text": [
      "/Users/Rockwell/opt/anaconda3/lib/python3.7/site-packages/sklearn/svm/base.py:193: FutureWarning: The default value of gamma will change from 'auto' to 'scale' in version 0.22 to account better for unscaled features. Set gamma explicitly to 'auto' or 'scale' to avoid this warning.\n",
      "  \"avoid this warning.\", FutureWarning)\n"
     ]
    },
    {
     "data": {
      "text/plain": [
       "SVC(C=1.0, cache_size=200, class_weight=None, coef0=0.0,\n",
       "    decision_function_shape='ovr', degree=3, gamma='auto_deprecated',\n",
       "    kernel='rbf', max_iter=-1, probability=False, random_state=None,\n",
       "    shrinking=True, tol=0.001, verbose=False)"
      ]
     },
     "execution_count": 277,
     "metadata": {},
     "output_type": "execute_result"
    }
   ],
   "source": [
    "# build SVM model\n",
    "lm_svm = svm.SVC()\n",
    "# one-hot encoding for X2 (gender), X3(education), X4(martial status)\n",
    "train_onehot = train.copy()\n",
    "train_onehot = pd.get_dummies(train_onehot, columns=['X2', 'X3', 'X4'], prefix=['X2', 'X3', 'X4'])\n",
    "# remove the id column\n",
    "train_onehot.drop(labels='id', axis=1, inplace=True)\n",
    "# move label column to the last\n",
    "feature_cols = [col for col in train_onehot.columns if col != 'Y']\n",
    "train_onehot = train_onehot[feature_cols + ['Y']]\n",
    "# split data to train and validation\n",
    "X_train, X_valid, y_train, y_valid = model_selection.train_test_split(train_onehot.iloc[:,:-1], train_onehot['Y'], test_size=0.2)\n",
    "lm_svm.fit(X_train, y_train)"
   ]
  },
  {
   "cell_type": "code",
   "execution_count": 278,
   "metadata": {},
   "outputs": [
    {
     "name": "stdout",
     "output_type": "stream",
     "text": [
      "              precision    recall  f1-score   support\n",
      "\n",
      "  Incredible       0.99      1.00      1.00     15618\n",
      "    Credible       1.00      0.97      0.98      4382\n",
      "\n",
      "    accuracy                           0.99     20000\n",
      "   macro avg       0.99      0.99      0.99     20000\n",
      "weighted avg       0.99      0.99      0.99     20000\n",
      "\n"
     ]
    }
   ],
   "source": [
    "# Check the performance in the training data\n",
    "print(classification_report(y_train, lm_svm.predict(X_train), target_names=['Incredible', 'Credible']))"
   ]
  },
  {
   "cell_type": "code",
   "execution_count": 288,
   "metadata": {},
   "outputs": [
    {
     "name": "stdout",
     "output_type": "stream",
     "text": [
      "              precision    recall  f1-score   support\n",
      "\n",
      "  Incredible       0.77      1.00      0.87      3834\n",
      "    Credible       0.56      0.01      0.03      1166\n",
      "\n",
      "    accuracy                           0.77      5000\n",
      "   macro avg       0.66      0.50      0.45      5000\n",
      "weighted avg       0.72      0.77      0.67      5000\n",
      "\n"
     ]
    }
   ],
   "source": [
    "# Check the performance in the validation data\n",
    "print(classification_report(y_valid, lm_svm.predict(X_valid), target_names=['Incredible', 'Credible']))\n",
    "# Store the report to dataframe\n",
    "report = classification_report(y_valid, lm_svm.predict(X_valid), target_names=['Incredible', 'Credible'], output_dict=True)\n",
    "df_report_lm_svm = pd.DataFrame(report).transpose()"
   ]
  },
  {
   "cell_type": "code",
   "execution_count": 280,
   "metadata": {},
   "outputs": [
    {
     "data": {
      "text/plain": [
       "array([[3822, 1151],\n",
       "       [  12,   15]])"
      ]
     },
     "execution_count": 280,
     "metadata": {},
     "output_type": "execute_result"
    }
   ],
   "source": [
    "metrics.confusion_matrix(lm_svm.predict(X_valid), y_valid)"
   ]
  },
  {
   "cell_type": "markdown",
   "metadata": {},
   "source": [
    "### 4. Detection performance"
   ]
  },
  {
   "cell_type": "code",
   "execution_count": 327,
   "metadata": {},
   "outputs": [],
   "source": [
    "# rename the columns of df_report for different classifier\n",
    "df_report_d_dtc = df_report_d_dtc.add_prefix('dtc_')"
   ]
  },
  {
   "cell_type": "code",
   "execution_count": 329,
   "metadata": {},
   "outputs": [],
   "source": [
    "df_report_lm_lr = df_report_lm_lr.add_prefix('lr_')"
   ]
  },
  {
   "cell_type": "code",
   "execution_count": 330,
   "metadata": {},
   "outputs": [
    {
     "data": {
      "text/html": [
       "<div>\n",
       "<style scoped>\n",
       "    .dataframe tbody tr th:only-of-type {\n",
       "        vertical-align: middle;\n",
       "    }\n",
       "\n",
       "    .dataframe tbody tr th {\n",
       "        vertical-align: top;\n",
       "    }\n",
       "\n",
       "    .dataframe thead th {\n",
       "        text-align: right;\n",
       "    }\n",
       "</style>\n",
       "<table border=\"1\" class=\"dataframe\">\n",
       "  <thead>\n",
       "    <tr style=\"text-align: right;\">\n",
       "      <th></th>\n",
       "      <th>lr_precision</th>\n",
       "      <th>lr_recall</th>\n",
       "      <th>lr_f1-score</th>\n",
       "      <th>lr_support</th>\n",
       "    </tr>\n",
       "  </thead>\n",
       "  <tbody>\n",
       "    <tr>\n",
       "      <td>Incredible</td>\n",
       "      <td>0.771909</td>\n",
       "      <td>0.999482</td>\n",
       "      <td>0.871077</td>\n",
       "      <td>3860.0000</td>\n",
       "    </tr>\n",
       "    <tr>\n",
       "      <td>Credible</td>\n",
       "      <td>0.000000</td>\n",
       "      <td>0.000000</td>\n",
       "      <td>0.000000</td>\n",
       "      <td>1140.0000</td>\n",
       "    </tr>\n",
       "    <tr>\n",
       "      <td>accuracy</td>\n",
       "      <td>0.771600</td>\n",
       "      <td>0.771600</td>\n",
       "      <td>0.771600</td>\n",
       "      <td>0.7716</td>\n",
       "    </tr>\n",
       "    <tr>\n",
       "      <td>macro avg</td>\n",
       "      <td>0.385954</td>\n",
       "      <td>0.499741</td>\n",
       "      <td>0.435538</td>\n",
       "      <td>5000.0000</td>\n",
       "    </tr>\n",
       "    <tr>\n",
       "      <td>weighted avg</td>\n",
       "      <td>0.595914</td>\n",
       "      <td>0.771600</td>\n",
       "      <td>0.672471</td>\n",
       "      <td>5000.0000</td>\n",
       "    </tr>\n",
       "  </tbody>\n",
       "</table>\n",
       "</div>"
      ],
      "text/plain": [
       "              lr_precision  lr_recall  lr_f1-score  lr_support\n",
       "Incredible        0.771909   0.999482     0.871077   3860.0000\n",
       "Credible          0.000000   0.000000     0.000000   1140.0000\n",
       "accuracy          0.771600   0.771600     0.771600      0.7716\n",
       "macro avg         0.385954   0.499741     0.435538   5000.0000\n",
       "weighted avg      0.595914   0.771600     0.672471   5000.0000"
      ]
     },
     "execution_count": 330,
     "metadata": {},
     "output_type": "execute_result"
    }
   ],
   "source": [
    "df_report_lm_lr"
   ]
  },
  {
   "cell_type": "code",
   "execution_count": 334,
   "metadata": {},
   "outputs": [],
   "source": [
    "df_report_lm_lr_no_onehot = df_report_lm_lr_no_onehot.add_prefix('lr_no_onehot_')"
   ]
  },
  {
   "cell_type": "code",
   "execution_count": 335,
   "metadata": {},
   "outputs": [
    {
     "data": {
      "text/html": [
       "<div>\n",
       "<style scoped>\n",
       "    .dataframe tbody tr th:only-of-type {\n",
       "        vertical-align: middle;\n",
       "    }\n",
       "\n",
       "    .dataframe tbody tr th {\n",
       "        vertical-align: top;\n",
       "    }\n",
       "\n",
       "    .dataframe thead th {\n",
       "        text-align: right;\n",
       "    }\n",
       "</style>\n",
       "<table border=\"1\" class=\"dataframe\">\n",
       "  <thead>\n",
       "    <tr style=\"text-align: right;\">\n",
       "      <th></th>\n",
       "      <th>lr_no_onehot_precision</th>\n",
       "      <th>lr_no_onehot_recall</th>\n",
       "      <th>lr_no_onehot_f1-score</th>\n",
       "      <th>lr_no_onehot_support</th>\n",
       "    </tr>\n",
       "  </thead>\n",
       "  <tbody>\n",
       "    <tr>\n",
       "      <td>Incredible</td>\n",
       "      <td>0.780200</td>\n",
       "      <td>1.0000</td>\n",
       "      <td>0.876531</td>\n",
       "      <td>3901.0000</td>\n",
       "    </tr>\n",
       "    <tr>\n",
       "      <td>Credible</td>\n",
       "      <td>0.000000</td>\n",
       "      <td>0.0000</td>\n",
       "      <td>0.000000</td>\n",
       "      <td>1099.0000</td>\n",
       "    </tr>\n",
       "    <tr>\n",
       "      <td>accuracy</td>\n",
       "      <td>0.780200</td>\n",
       "      <td>0.7802</td>\n",
       "      <td>0.780200</td>\n",
       "      <td>0.7802</td>\n",
       "    </tr>\n",
       "    <tr>\n",
       "      <td>macro avg</td>\n",
       "      <td>0.390100</td>\n",
       "      <td>0.5000</td>\n",
       "      <td>0.438265</td>\n",
       "      <td>5000.0000</td>\n",
       "    </tr>\n",
       "    <tr>\n",
       "      <td>weighted avg</td>\n",
       "      <td>0.608712</td>\n",
       "      <td>0.7802</td>\n",
       "      <td>0.683869</td>\n",
       "      <td>5000.0000</td>\n",
       "    </tr>\n",
       "  </tbody>\n",
       "</table>\n",
       "</div>"
      ],
      "text/plain": [
       "              lr_no_onehot_precision  lr_no_onehot_recall  \\\n",
       "Incredible                  0.780200               1.0000   \n",
       "Credible                    0.000000               0.0000   \n",
       "accuracy                    0.780200               0.7802   \n",
       "macro avg                   0.390100               0.5000   \n",
       "weighted avg                0.608712               0.7802   \n",
       "\n",
       "              lr_no_onehot_f1-score  lr_no_onehot_support  \n",
       "Incredible                 0.876531             3901.0000  \n",
       "Credible                   0.000000             1099.0000  \n",
       "accuracy                   0.780200                0.7802  \n",
       "macro avg                  0.438265             5000.0000  \n",
       "weighted avg               0.683869             5000.0000  "
      ]
     },
     "execution_count": 335,
     "metadata": {},
     "output_type": "execute_result"
    }
   ],
   "source": [
    "df_report_lm_lr_no_onehot"
   ]
  },
  {
   "cell_type": "code",
   "execution_count": 336,
   "metadata": {},
   "outputs": [
    {
     "data": {
      "text/html": [
       "<div>\n",
       "<style scoped>\n",
       "    .dataframe tbody tr th:only-of-type {\n",
       "        vertical-align: middle;\n",
       "    }\n",
       "\n",
       "    .dataframe tbody tr th {\n",
       "        vertical-align: top;\n",
       "    }\n",
       "\n",
       "    .dataframe thead th {\n",
       "        text-align: right;\n",
       "    }\n",
       "</style>\n",
       "<table border=\"1\" class=\"dataframe\">\n",
       "  <thead>\n",
       "    <tr style=\"text-align: right;\">\n",
       "      <th></th>\n",
       "      <th>svm_precision</th>\n",
       "      <th>svm_recall</th>\n",
       "      <th>svm_f1-score</th>\n",
       "      <th>svm_support</th>\n",
       "    </tr>\n",
       "  </thead>\n",
       "  <tbody>\n",
       "    <tr>\n",
       "      <td>Incredible</td>\n",
       "      <td>0.768550</td>\n",
       "      <td>0.996870</td>\n",
       "      <td>0.867946</td>\n",
       "      <td>3834.0000</td>\n",
       "    </tr>\n",
       "    <tr>\n",
       "      <td>Credible</td>\n",
       "      <td>0.555556</td>\n",
       "      <td>0.012864</td>\n",
       "      <td>0.025147</td>\n",
       "      <td>1166.0000</td>\n",
       "    </tr>\n",
       "    <tr>\n",
       "      <td>accuracy</td>\n",
       "      <td>0.767400</td>\n",
       "      <td>0.767400</td>\n",
       "      <td>0.767400</td>\n",
       "      <td>0.7674</td>\n",
       "    </tr>\n",
       "    <tr>\n",
       "      <td>macro avg</td>\n",
       "      <td>0.662053</td>\n",
       "      <td>0.504867</td>\n",
       "      <td>0.446546</td>\n",
       "      <td>5000.0000</td>\n",
       "    </tr>\n",
       "    <tr>\n",
       "      <td>weighted avg</td>\n",
       "      <td>0.718880</td>\n",
       "      <td>0.767400</td>\n",
       "      <td>0.671405</td>\n",
       "      <td>5000.0000</td>\n",
       "    </tr>\n",
       "  </tbody>\n",
       "</table>\n",
       "</div>"
      ],
      "text/plain": [
       "              svm_precision  svm_recall  svm_f1-score  svm_support\n",
       "Incredible         0.768550    0.996870      0.867946    3834.0000\n",
       "Credible           0.555556    0.012864      0.025147    1166.0000\n",
       "accuracy           0.767400    0.767400      0.767400       0.7674\n",
       "macro avg          0.662053    0.504867      0.446546    5000.0000\n",
       "weighted avg       0.718880    0.767400      0.671405    5000.0000"
      ]
     },
     "execution_count": 336,
     "metadata": {},
     "output_type": "execute_result"
    }
   ],
   "source": [
    "df_report_lm_svm = df_report_lm_svm.add_prefix('svm_')\n",
    "df_report_lm_svm"
   ]
  },
  {
   "cell_type": "code",
   "execution_count": 343,
   "metadata": {},
   "outputs": [
    {
     "data": {
      "text/html": [
       "<div>\n",
       "<style scoped>\n",
       "    .dataframe tbody tr th:only-of-type {\n",
       "        vertical-align: middle;\n",
       "    }\n",
       "\n",
       "    .dataframe tbody tr th {\n",
       "        vertical-align: top;\n",
       "    }\n",
       "\n",
       "    .dataframe thead th {\n",
       "        text-align: right;\n",
       "    }\n",
       "</style>\n",
       "<table border=\"1\" class=\"dataframe\">\n",
       "  <thead>\n",
       "    <tr style=\"text-align: right;\">\n",
       "      <th></th>\n",
       "      <th>svm_precision</th>\n",
       "      <th>svm_recall</th>\n",
       "      <th>svm_f1-score</th>\n",
       "      <th>svm_support</th>\n",
       "      <th>lr_no_onehot_precision</th>\n",
       "      <th>lr_no_onehot_recall</th>\n",
       "      <th>lr_no_onehot_f1-score</th>\n",
       "      <th>lr_no_onehot_support</th>\n",
       "      <th>lr_precision</th>\n",
       "      <th>lr_recall</th>\n",
       "      <th>lr_f1-score</th>\n",
       "      <th>lr_support</th>\n",
       "      <th>dtc_precision</th>\n",
       "      <th>dtc_recall</th>\n",
       "      <th>dtc_f1-score</th>\n",
       "      <th>dtc_support</th>\n",
       "    </tr>\n",
       "  </thead>\n",
       "  <tbody>\n",
       "    <tr>\n",
       "      <td>Incredible</td>\n",
       "      <td>0.768550</td>\n",
       "      <td>0.996870</td>\n",
       "      <td>0.867946</td>\n",
       "      <td>3834.0000</td>\n",
       "      <td>0.780200</td>\n",
       "      <td>1.0000</td>\n",
       "      <td>0.876531</td>\n",
       "      <td>3901.0000</td>\n",
       "      <td>0.771909</td>\n",
       "      <td>0.999482</td>\n",
       "      <td>0.871077</td>\n",
       "      <td>3860.0000</td>\n",
       "      <td>0.835366</td>\n",
       "      <td>0.948218</td>\n",
       "      <td>0.888222</td>\n",
       "      <td>3901.0000</td>\n",
       "    </tr>\n",
       "    <tr>\n",
       "      <td>Credible</td>\n",
       "      <td>0.555556</td>\n",
       "      <td>0.012864</td>\n",
       "      <td>0.025147</td>\n",
       "      <td>1166.0000</td>\n",
       "      <td>0.000000</td>\n",
       "      <td>0.0000</td>\n",
       "      <td>0.000000</td>\n",
       "      <td>1099.0000</td>\n",
       "      <td>0.000000</td>\n",
       "      <td>0.000000</td>\n",
       "      <td>0.000000</td>\n",
       "      <td>1140.0000</td>\n",
       "      <td>0.646853</td>\n",
       "      <td>0.336670</td>\n",
       "      <td>0.442849</td>\n",
       "      <td>1099.0000</td>\n",
       "    </tr>\n",
       "    <tr>\n",
       "      <td>accuracy</td>\n",
       "      <td>0.767400</td>\n",
       "      <td>0.767400</td>\n",
       "      <td>0.767400</td>\n",
       "      <td>0.7674</td>\n",
       "      <td>0.780200</td>\n",
       "      <td>0.7802</td>\n",
       "      <td>0.780200</td>\n",
       "      <td>0.7802</td>\n",
       "      <td>0.771600</td>\n",
       "      <td>0.771600</td>\n",
       "      <td>0.771600</td>\n",
       "      <td>0.7716</td>\n",
       "      <td>0.813800</td>\n",
       "      <td>0.813800</td>\n",
       "      <td>0.813800</td>\n",
       "      <td>0.8138</td>\n",
       "    </tr>\n",
       "    <tr>\n",
       "      <td>macro avg</td>\n",
       "      <td>0.662053</td>\n",
       "      <td>0.504867</td>\n",
       "      <td>0.446546</td>\n",
       "      <td>5000.0000</td>\n",
       "      <td>0.390100</td>\n",
       "      <td>0.5000</td>\n",
       "      <td>0.438265</td>\n",
       "      <td>5000.0000</td>\n",
       "      <td>0.385954</td>\n",
       "      <td>0.499741</td>\n",
       "      <td>0.435538</td>\n",
       "      <td>5000.0000</td>\n",
       "      <td>0.741110</td>\n",
       "      <td>0.642444</td>\n",
       "      <td>0.665535</td>\n",
       "      <td>5000.0000</td>\n",
       "    </tr>\n",
       "    <tr>\n",
       "      <td>weighted avg</td>\n",
       "      <td>0.718880</td>\n",
       "      <td>0.767400</td>\n",
       "      <td>0.671405</td>\n",
       "      <td>5000.0000</td>\n",
       "      <td>0.608712</td>\n",
       "      <td>0.7802</td>\n",
       "      <td>0.683869</td>\n",
       "      <td>5000.0000</td>\n",
       "      <td>0.595914</td>\n",
       "      <td>0.771600</td>\n",
       "      <td>0.672471</td>\n",
       "      <td>5000.0000</td>\n",
       "      <td>0.793931</td>\n",
       "      <td>0.813800</td>\n",
       "      <td>0.790329</td>\n",
       "      <td>5000.0000</td>\n",
       "    </tr>\n",
       "  </tbody>\n",
       "</table>\n",
       "</div>"
      ],
      "text/plain": [
       "              svm_precision  svm_recall  svm_f1-score  svm_support  \\\n",
       "Incredible         0.768550    0.996870      0.867946    3834.0000   \n",
       "Credible           0.555556    0.012864      0.025147    1166.0000   \n",
       "accuracy           0.767400    0.767400      0.767400       0.7674   \n",
       "macro avg          0.662053    0.504867      0.446546    5000.0000   \n",
       "weighted avg       0.718880    0.767400      0.671405    5000.0000   \n",
       "\n",
       "              lr_no_onehot_precision  lr_no_onehot_recall  \\\n",
       "Incredible                  0.780200               1.0000   \n",
       "Credible                    0.000000               0.0000   \n",
       "accuracy                    0.780200               0.7802   \n",
       "macro avg                   0.390100               0.5000   \n",
       "weighted avg                0.608712               0.7802   \n",
       "\n",
       "              lr_no_onehot_f1-score  lr_no_onehot_support  lr_precision  \\\n",
       "Incredible                 0.876531             3901.0000      0.771909   \n",
       "Credible                   0.000000             1099.0000      0.000000   \n",
       "accuracy                   0.780200                0.7802      0.771600   \n",
       "macro avg                  0.438265             5000.0000      0.385954   \n",
       "weighted avg               0.683869             5000.0000      0.595914   \n",
       "\n",
       "              lr_recall  lr_f1-score  lr_support  dtc_precision  dtc_recall  \\\n",
       "Incredible     0.999482     0.871077   3860.0000       0.835366    0.948218   \n",
       "Credible       0.000000     0.000000   1140.0000       0.646853    0.336670   \n",
       "accuracy       0.771600     0.771600      0.7716       0.813800    0.813800   \n",
       "macro avg      0.499741     0.435538   5000.0000       0.741110    0.642444   \n",
       "weighted avg   0.771600     0.672471   5000.0000       0.793931    0.813800   \n",
       "\n",
       "              dtc_f1-score  dtc_support  \n",
       "Incredible        0.888222    3901.0000  \n",
       "Credible          0.442849    1099.0000  \n",
       "accuracy          0.813800       0.8138  \n",
       "macro avg         0.665535    5000.0000  \n",
       "weighted avg      0.790329    5000.0000  "
      ]
     },
     "execution_count": 343,
     "metadata": {},
     "output_type": "execute_result"
    }
   ],
   "source": [
    "df_report_all = df_report_lm_svm.merge(df_report_lm_lr_no_onehot.merge(df_report_lm_lr.merge(df_report_d_dtc, left_index=True, right_index=True),left_index=True, right_index=True),left_index=True, right_index=True)\n",
    "df_report_all"
   ]
  },
  {
   "cell_type": "code",
   "execution_count": 367,
   "metadata": {},
   "outputs": [
    {
     "data": {
      "image/png": "[encoded data removed]",
      "text/plain": [
       "<Figure size 864x432 with 1 Axes>"
      ]
     },
     "metadata": {
      "needs_background": "light"
     },
     "output_type": "display_data"
    }
   ],
   "source": [
    "# Plot fraud detection performance, i.e., recall for incredible and credible users\n",
    "df_report_all.plot(y=['svm_recall', 'lr_no_onehot_recall', 'lr_recall', 'dtc_recall'], kind='bar', figsize=(12,6), cmap='Spectral')\n",
    "plt.title('Recall for incredible and credible users')\n",
    "plt.show()"
   ]
  },
  {
   "cell_type": "code",
   "execution_count": 368,
   "metadata": {},
   "outputs": [
    {
     "data": {
      "image/png": "[encoded data removed]",
      "text/plain": [
       "<Figure size 864x432 with 1 Axes>"
      ]
     },
     "metadata": {
      "needs_background": "light"
     },
     "output_type": "display_data"
    }
   ],
   "source": [
    "# Plot fraud detection performance, i.e., precision for incredible and credible users\n",
    "df_report_all.plot(y=['svm_recall', 'lr_no_onehot_recall', 'lr_recall', 'dtc_recall'], kind='bar', figsize=(12,6), cmap='Spectral')\n",
    "plt.title('Precision for incredible and credible users')\n",
    "plt.show()"
   ]
  },
  {
   "cell_type": "code",
   "execution_count": null,
   "metadata": {},
   "outputs": [],
   "source": []
  },
  {
   "cell_type": "code",
   "execution_count": null,
   "metadata": {},
   "outputs": [],
   "source": []
  },
  {
   "cell_type": "code",
   "execution_count": null,
   "metadata": {},
   "outputs": [],
   "source": []
  },
  {
   "cell_type": "code",
   "execution_count": null,
   "metadata": {},
   "outputs": [],
   "source": []
  },
  {
   "cell_type": "markdown",
   "metadata": {},
   "source": [
    "Y: Whether the customer is creditable (1) or not (0)."
   ]
  }
 ],
 "metadata": {
  "kernelspec": {
   "display_name": "Python 3",
   "language": "python",
   "name": "python3"
  },
  "language_info": {
   "codemirror_mode": {
    "name": "ipython",
    "version": 3
   },
   "file_extension": ".py",
   "mimetype": "text/x-python",
   "name": "python",
   "nbconvert_exporter": "python",
   "pygments_lexer": "ipython3",
   "version": "3.7.4"
  }
 },
 "nbformat": 4,
 "nbformat_minor": 2
}
