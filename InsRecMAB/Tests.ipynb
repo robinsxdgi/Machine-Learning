{
 "cells": [
  {
   "cell_type": "code",
   "execution_count": 1,
   "metadata": {},
   "outputs": [
    {
     "name": "stderr",
     "output_type": "stream",
     "text": [
      "2020-12-02 21:36:59.796 INFO    numexpr.utils: NumExpr defaulting to 4 threads.\n"
     ]
    },
    {
     "data": {
      "text/html": [
       "<div>\n",
       "<style scoped>\n",
       "    .dataframe tbody tr th:only-of-type {\n",
       "        vertical-align: middle;\n",
       "    }\n",
       "\n",
       "    .dataframe tbody tr th {\n",
       "        vertical-align: top;\n",
       "    }\n",
       "\n",
       "    .dataframe thead th {\n",
       "        text-align: right;\n",
       "    }\n",
       "</style>\n",
       "<table border=\"1\" class=\"dataframe\">\n",
       "  <thead>\n",
       "    <tr style=\"text-align: right;\">\n",
       "      <th></th>\n",
       "      <th>Open</th>\n",
       "      <th>High</th>\n",
       "      <th>Low</th>\n",
       "      <th>Close</th>\n",
       "      <th>Volume</th>\n",
       "      <th>Dividends</th>\n",
       "      <th>Stock Splits</th>\n",
       "    </tr>\n",
       "    <tr>\n",
       "      <th>Date</th>\n",
       "      <th></th>\n",
       "      <th></th>\n",
       "      <th></th>\n",
       "      <th></th>\n",
       "      <th></th>\n",
       "      <th></th>\n",
       "      <th></th>\n",
       "    </tr>\n",
       "  </thead>\n",
       "  <tbody>\n",
       "    <tr>\n",
       "      <td>2010-06-01</td>\n",
       "      <td>240.455460</td>\n",
       "      <td>245.775772</td>\n",
       "      <td>240.300293</td>\n",
       "      <td>241.426422</td>\n",
       "      <td>5328200</td>\n",
       "      <td>0</td>\n",
       "      <td>0.0</td>\n",
       "    </tr>\n",
       "    <tr>\n",
       "      <td>2010-06-02</td>\n",
       "      <td>243.583588</td>\n",
       "      <td>247.182175</td>\n",
       "      <td>240.970978</td>\n",
       "      <td>246.931931</td>\n",
       "      <td>5076500</td>\n",
       "      <td>0</td>\n",
       "      <td>0.0</td>\n",
       "    </tr>\n",
       "    <tr>\n",
       "      <td>2010-06-03</td>\n",
       "      <td>247.802795</td>\n",
       "      <td>254.254257</td>\n",
       "      <td>247.597595</td>\n",
       "      <td>253.053055</td>\n",
       "      <td>7294000</td>\n",
       "      <td>0</td>\n",
       "      <td>0.0</td>\n",
       "    </tr>\n",
       "    <tr>\n",
       "      <td>2010-06-04</td>\n",
       "      <td>250.110107</td>\n",
       "      <td>254.879883</td>\n",
       "      <td>248.598602</td>\n",
       "      <td>249.609604</td>\n",
       "      <td>7832700</td>\n",
       "      <td>0</td>\n",
       "      <td>0.0</td>\n",
       "    </tr>\n",
       "    <tr>\n",
       "      <td>2010-06-07</td>\n",
       "      <td>249.779785</td>\n",
       "      <td>250.705704</td>\n",
       "      <td>241.816818</td>\n",
       "      <td>243.003006</td>\n",
       "      <td>7258100</td>\n",
       "      <td>0</td>\n",
       "      <td>0.0</td>\n",
       "    </tr>\n",
       "    <tr>\n",
       "      <td>...</td>\n",
       "      <td>...</td>\n",
       "      <td>...</td>\n",
       "      <td>...</td>\n",
       "      <td>...</td>\n",
       "      <td>...</td>\n",
       "      <td>...</td>\n",
       "      <td>...</td>\n",
       "    </tr>\n",
       "    <tr>\n",
       "      <td>2020-05-22</td>\n",
       "      <td>1403.900024</td>\n",
       "      <td>1417.000000</td>\n",
       "      <td>1395.949951</td>\n",
       "      <td>1413.239990</td>\n",
       "      <td>1427200</td>\n",
       "      <td>0</td>\n",
       "      <td>0.0</td>\n",
       "    </tr>\n",
       "    <tr>\n",
       "      <td>2020-05-26</td>\n",
       "      <td>1441.959961</td>\n",
       "      <td>1445.109985</td>\n",
       "      <td>1419.400024</td>\n",
       "      <td>1421.369995</td>\n",
       "      <td>2229500</td>\n",
       "      <td>0</td>\n",
       "      <td>0.0</td>\n",
       "    </tr>\n",
       "    <tr>\n",
       "      <td>2020-05-27</td>\n",
       "      <td>1420.000000</td>\n",
       "      <td>1425.349976</td>\n",
       "      <td>1394.599976</td>\n",
       "      <td>1420.280029</td>\n",
       "      <td>1584200</td>\n",
       "      <td>0</td>\n",
       "      <td>0.0</td>\n",
       "    </tr>\n",
       "    <tr>\n",
       "      <td>2020-05-28</td>\n",
       "      <td>1400.000000</td>\n",
       "      <td>1444.459961</td>\n",
       "      <td>1399.079956</td>\n",
       "      <td>1418.239990</td>\n",
       "      <td>1758500</td>\n",
       "      <td>0</td>\n",
       "      <td>0.0</td>\n",
       "    </tr>\n",
       "    <tr>\n",
       "      <td>2020-05-29</td>\n",
       "      <td>1420.430054</td>\n",
       "      <td>1436.729980</td>\n",
       "      <td>1415.979980</td>\n",
       "      <td>1433.520020</td>\n",
       "      <td>1852200</td>\n",
       "      <td>0</td>\n",
       "      <td>0.0</td>\n",
       "    </tr>\n",
       "  </tbody>\n",
       "</table>\n",
       "<p>2517 rows × 7 columns</p>\n",
       "</div>"
      ],
      "text/plain": [
       "                   Open         High          Low        Close   Volume  \\\n",
       "Date                                                                      \n",
       "2010-06-01   240.455460   245.775772   240.300293   241.426422  5328200   \n",
       "2010-06-02   243.583588   247.182175   240.970978   246.931931  5076500   \n",
       "2010-06-03   247.802795   254.254257   247.597595   253.053055  7294000   \n",
       "2010-06-04   250.110107   254.879883   248.598602   249.609604  7832700   \n",
       "2010-06-07   249.779785   250.705704   241.816818   243.003006  7258100   \n",
       "...                 ...          ...          ...          ...      ...   \n",
       "2020-05-22  1403.900024  1417.000000  1395.949951  1413.239990  1427200   \n",
       "2020-05-26  1441.959961  1445.109985  1419.400024  1421.369995  2229500   \n",
       "2020-05-27  1420.000000  1425.349976  1394.599976  1420.280029  1584200   \n",
       "2020-05-28  1400.000000  1444.459961  1399.079956  1418.239990  1758500   \n",
       "2020-05-29  1420.430054  1436.729980  1415.979980  1433.520020  1852200   \n",
       "\n",
       "            Dividends  Stock Splits  \n",
       "Date                                 \n",
       "2010-06-01          0           0.0  \n",
       "2010-06-02          0           0.0  \n",
       "2010-06-03          0           0.0  \n",
       "2010-06-04          0           0.0  \n",
       "2010-06-07          0           0.0  \n",
       "...               ...           ...  \n",
       "2020-05-22          0           0.0  \n",
       "2020-05-26          0           0.0  \n",
       "2020-05-27          0           0.0  \n",
       "2020-05-28          0           0.0  \n",
       "2020-05-29          0           0.0  \n",
       "\n",
       "[2517 rows x 7 columns]"
      ]
     },
     "execution_count": 1,
     "metadata": {},
     "output_type": "execute_result"
    }
   ],
   "source": [
    "import yfinance as yf\n",
    "import streamlit as st\n",
    "import pandas as pd\n",
    "\n",
    "st.write(\"\"\"first app\"\"\")\n",
    "\n",
    "ticksymbol = 'GOOGL'\n",
    "tickerData = yf.Ticker(ticksymbol)\n",
    "tickerDf = tickerData.history(period='1d', start='2010-5-31', end='2020-5-31')\n",
    "tickerDf"
   ]
  },
  {
   "cell_type": "code",
   "execution_count": 3,
   "metadata": {},
   "outputs": [
    {
     "data": {
      "text/plain": [
       "array([[-1.84797199]])"
      ]
     },
     "execution_count": 3,
     "metadata": {},
     "output_type": "execute_result"
    }
   ],
   "source": [
    "import numpy as np\n",
    "np.random.randn(1, 1)"
   ]
  },
  {
   "cell_type": "code",
   "execution_count": 6,
   "metadata": {},
   "outputs": [
    {
     "data": {
      "text/plain": [
       "array([[-0.69798928]])"
      ]
     },
     "execution_count": 6,
     "metadata": {},
     "output_type": "execute_result"
    }
   ],
   "source": [
    "last_rows = np.random.randn(1, 1)\n",
    "last_rows"
   ]
  },
  {
   "cell_type": "code",
   "execution_count": 7,
   "metadata": {},
   "outputs": [
    {
     "data": {
      "text/plain": [
       "array([-0.69798928])"
      ]
     },
     "execution_count": 7,
     "metadata": {},
     "output_type": "execute_result"
    }
   ],
   "source": [
    "last_rows[-1,:]"
   ]
  },
  {
   "cell_type": "code",
   "execution_count": 9,
   "metadata": {},
   "outputs": [
    {
     "data": {
      "text/plain": [
       "array([[ 1.17755202],\n",
       "       [-0.24107879],\n",
       "       [ 1.41643319],\n",
       "       [ 1.10466969],\n",
       "       [ 0.01230387]])"
      ]
     },
     "execution_count": 9,
     "metadata": {},
     "output_type": "execute_result"
    }
   ],
   "source": [
    "np.random.randn(5, 1)"
   ]
  },
  {
   "cell_type": "code",
   "execution_count": 11,
   "metadata": {},
   "outputs": [
    {
     "data": {
      "text/plain": [
       "array([[-2.07931257],\n",
       "       [-3.90092015],\n",
       "       [-3.58826325],\n",
       "       [-4.49112626],\n",
       "       [-4.90579468]])"
      ]
     },
     "execution_count": 11,
     "metadata": {},
     "output_type": "execute_result"
    }
   ],
   "source": [
    "np.random.randn(5, 1).cumsum(axis=0)"
   ]
  },
  {
   "cell_type": "code",
   "execution_count": 14,
   "metadata": {},
   "outputs": [
    {
     "data": {
      "text/plain": [
       "array([[-0.1244429 ],\n",
       "       [ 0.00458253],\n",
       "       [ 1.00392011],\n",
       "       [ 0.04276734],\n",
       "       [-2.92695736]])"
      ]
     },
     "execution_count": 14,
     "metadata": {},
     "output_type": "execute_result"
    }
   ],
   "source": [
    "last_rows[-1, :] + np.random.randn(5, 1).cumsum(axis=0)"
   ]
  },
  {
   "cell_type": "code",
   "execution_count": 15,
   "metadata": {},
   "outputs": [
    {
     "data": {
      "text/plain": [
       "array([0.30201072, 2.30201072, 5.30201072])"
      ]
     },
     "execution_count": 15,
     "metadata": {},
     "output_type": "execute_result"
    }
   ],
   "source": [
    "last_rows[-1, :] + np.array([1,2,3]).cumsum(axis=0)"
   ]
  },
  {
   "cell_type": "code",
   "execution_count": 2,
   "metadata": {},
   "outputs": [
    {
     "data": {
      "text/plain": [
       "Date\n",
       "2010-06-01     241.426422\n",
       "2010-06-02     246.931931\n",
       "2010-06-03     253.053055\n",
       "2010-06-04     249.609604\n",
       "2010-06-07     243.003006\n",
       "                 ...     \n",
       "2020-05-22    1413.239990\n",
       "2020-05-26    1421.369995\n",
       "2020-05-27    1420.280029\n",
       "2020-05-28    1418.239990\n",
       "2020-05-29    1433.520020\n",
       "Name: Close, Length: 2517, dtype: float64"
      ]
     },
     "execution_count": 2,
     "metadata": {},
     "output_type": "execute_result"
    }
   ],
   "source": [
    "tickerDf.Close"
   ]
  },
  {
   "cell_type": "code",
   "execution_count": 16,
   "metadata": {},
   "outputs": [],
   "source": [
    "df1 = pd.DataFrame()\n",
    "l = []\n",
    "for i in range(1000):\n",
    "    l.append(i)\n",
    "    \n",
    "df1['close'] = l\n",
    "\n",
    "# mychart = st.line_chart(df1['close'].iloc[0:1])\n",
    "# for i in range(1000-1):\n",
    "#     mychart.add_rows(df1['close'].iloc[i:i+1])"
   ]
  },
  {
   "cell_type": "code",
   "execution_count": 17,
   "metadata": {},
   "outputs": [
    {
     "data": {
      "text/plain": [
       "0    0\n",
       "Name: close, dtype: int64"
      ]
     },
     "execution_count": 17,
     "metadata": {},
     "output_type": "execute_result"
    }
   ],
   "source": [
    "df1['close'].iloc[0:1]"
   ]
  },
  {
   "cell_type": "code",
   "execution_count": 19,
   "metadata": {},
   "outputs": [
    {
     "data": {
      "text/plain": [
       "999    999\n",
       "Name: close, dtype: int64"
      ]
     },
     "execution_count": 19,
     "metadata": {},
     "output_type": "execute_result"
    }
   ],
   "source": [
    "df1['close'].iloc[i:i+1]"
   ]
  },
  {
   "cell_type": "code",
   "execution_count": 20,
   "metadata": {},
   "outputs": [
    {
     "ename": "ModuleNotFoundError",
     "evalue": "No module named 'SessionState'",
     "output_type": "error",
     "traceback": [
      "\u001b[0;31m---------------------------------------------------------------------------\u001b[0m",
      "\u001b[0;31mModuleNotFoundError\u001b[0m                       Traceback (most recent call last)",
      "\u001b[0;32m<ipython-input-20-607e479c8cb3>\u001b[0m in \u001b[0;36m<module>\u001b[0;34m\u001b[0m\n\u001b[0;32m----> 1\u001b[0;31m \u001b[0;32mimport\u001b[0m \u001b[0mSessionState\u001b[0m\u001b[0;34m\u001b[0m\u001b[0;34m\u001b[0m\u001b[0m\n\u001b[0m",
      "\u001b[0;31mModuleNotFoundError\u001b[0m: No module named 'SessionState'"
     ]
    }
   ],
   "source": [
    "import SessionState\n"
   ]
  },
  {
   "cell_type": "code",
   "execution_count": null,
   "metadata": {},
   "outputs": [],
   "source": [
    "import streamlit as st\n",
    "import time\n",
    "import numpy as np\n",
    "\n",
    "progress_bar = st.sidebar.progress(0)\n",
    "status_text = st.sidebar.empty()\n",
    "last_rows = np.random.randn(1, 1)\n",
    "chart = st.line_chart(last_rows)\n",
    "\n",
    "for i in range(1, 101):\n",
    "    new_rows = last_rows[-1, :] + np.random.randn(5, 1).cumsum(axis=0)\n",
    "    status_text.text(\"%i%% Complete\" % i)\n",
    "    chart.add_rows(new_rows)\n",
    "    progress_bar.progress(i)\n",
    "    last_rows = new_rows\n",
    "    time.sleep(0.05)\n",
    "\n",
    "progress_bar.empty()\n",
    "\n",
    "# Streamlit widgets automatically run the script from top to bottom. Since\n",
    "# this button is not connected to any other logic, it just causes a plain\n",
    "# rerun.\n",
    "st.button(\"Re-run\")"
   ]
  },
  {
   "cell_type": "code",
   "execution_count": 22,
   "metadata": {},
   "outputs": [],
   "source": [
    "df2 = pd.DataFrame({'RPV_IF_1': [3],\n",
    "                    'RPV_IF_2': [2],\n",
    "                    'RPV_IF_3': [3.4],\n",
    "                    'RPV_IF_4': [6],\n",
    "                    'RPV_IF_5': [7]})"
   ]
  },
  {
   "cell_type": "code",
   "execution_count": 23,
   "metadata": {},
   "outputs": [],
   "source": [
    "product_prices=[1,3,5,2,3]\n",
    "product_prices.sort(reverse=True)"
   ]
  },
  {
   "cell_type": "code",
   "execution_count": 27,
   "metadata": {},
   "outputs": [],
   "source": [
    "product_prices=[1,3,5,2,3]\n",
    "p_p = product_prices.copy()"
   ]
  },
  {
   "cell_type": "code",
   "execution_count": 28,
   "metadata": {},
   "outputs": [],
   "source": [
    "p_p.sort(reverse=True)"
   ]
  },
  {
   "cell_type": "code",
   "execution_count": 29,
   "metadata": {},
   "outputs": [
    {
     "data": {
      "text/plain": [
       "[5, 3, 3, 2, 1]"
      ]
     },
     "execution_count": 29,
     "metadata": {},
     "output_type": "execute_result"
    }
   ],
   "source": [
    "p_p"
   ]
  },
  {
   "cell_type": "code",
   "execution_count": 30,
   "metadata": {},
   "outputs": [
    {
     "data": {
      "text/plain": [
       "[1, 3, 5, 2, 3]"
      ]
     },
     "execution_count": 30,
     "metadata": {},
     "output_type": "execute_result"
    }
   ],
   "source": [
    "product_prices"
   ]
  },
  {
   "cell_type": "code",
   "execution_count": 33,
   "metadata": {},
   "outputs": [
    {
     "data": {
      "text/plain": [
       "1"
      ]
     },
     "execution_count": 33,
     "metadata": {},
     "output_type": "execute_result"
    }
   ],
   "source": [
    "import random\n",
    "random.randint(1, 2)"
   ]
  },
  {
   "cell_type": "code",
   "execution_count": 70,
   "metadata": {},
   "outputs": [
    {
     "data": {
      "text/plain": [
       "[6, 8]"
      ]
     },
     "execution_count": 70,
     "metadata": {},
     "output_type": "execute_result"
    }
   ],
   "source": [
    "random.sample(range(5,10), 2)"
   ]
  },
  {
   "cell_type": "code",
   "execution_count": 44,
   "metadata": {},
   "outputs": [
    {
     "ename": "ValueError",
     "evalue": "non-integer stop for randrange()",
     "output_type": "error",
     "traceback": [
      "\u001b[0;31m---------------------------------------------------------------------------\u001b[0m",
      "\u001b[0;31mValueError\u001b[0m                                Traceback (most recent call last)",
      "\u001b[0;32m<ipython-input-44-3925919b2c03>\u001b[0m in \u001b[0;36m<module>\u001b[0;34m\u001b[0m\n\u001b[0;32m----> 1\u001b[0;31m \u001b[0mrandom\u001b[0m\u001b[0;34m.\u001b[0m\u001b[0mrandint\u001b[0m\u001b[0;34m(\u001b[0m\u001b[0;36m1\u001b[0m\u001b[0;34m,\u001b[0m \u001b[0;36m4.5\u001b[0m\u001b[0;34m)\u001b[0m\u001b[0;34m\u001b[0m\u001b[0;34m\u001b[0m\u001b[0m\n\u001b[0m",
      "\u001b[0;32m~/opt/anaconda3/lib/python3.7/random.py\u001b[0m in \u001b[0;36mrandint\u001b[0;34m(self, a, b)\u001b[0m\n\u001b[1;32m    220\u001b[0m         \"\"\"\n\u001b[1;32m    221\u001b[0m \u001b[0;34m\u001b[0m\u001b[0m\n\u001b[0;32m--> 222\u001b[0;31m         \u001b[0;32mreturn\u001b[0m \u001b[0mself\u001b[0m\u001b[0;34m.\u001b[0m\u001b[0mrandrange\u001b[0m\u001b[0;34m(\u001b[0m\u001b[0ma\u001b[0m\u001b[0;34m,\u001b[0m \u001b[0mb\u001b[0m\u001b[0;34m+\u001b[0m\u001b[0;36m1\u001b[0m\u001b[0;34m)\u001b[0m\u001b[0;34m\u001b[0m\u001b[0;34m\u001b[0m\u001b[0m\n\u001b[0m\u001b[1;32m    223\u001b[0m \u001b[0;34m\u001b[0m\u001b[0m\n\u001b[1;32m    224\u001b[0m     def _randbelow(self, n, int=int, maxsize=1<<BPF, type=type,\n",
      "\u001b[0;32m~/opt/anaconda3/lib/python3.7/random.py\u001b[0m in \u001b[0;36mrandrange\u001b[0;34m(self, start, stop, step, _int)\u001b[0m\n\u001b[1;32m    193\u001b[0m         \u001b[0mistop\u001b[0m \u001b[0;34m=\u001b[0m \u001b[0m_int\u001b[0m\u001b[0;34m(\u001b[0m\u001b[0mstop\u001b[0m\u001b[0;34m)\u001b[0m\u001b[0;34m\u001b[0m\u001b[0;34m\u001b[0m\u001b[0m\n\u001b[1;32m    194\u001b[0m         \u001b[0;32mif\u001b[0m \u001b[0mistop\u001b[0m \u001b[0;34m!=\u001b[0m \u001b[0mstop\u001b[0m\u001b[0;34m:\u001b[0m\u001b[0;34m\u001b[0m\u001b[0;34m\u001b[0m\u001b[0m\n\u001b[0;32m--> 195\u001b[0;31m             \u001b[0;32mraise\u001b[0m \u001b[0mValueError\u001b[0m\u001b[0;34m(\u001b[0m\u001b[0;34m\"non-integer stop for randrange()\"\u001b[0m\u001b[0;34m)\u001b[0m\u001b[0;34m\u001b[0m\u001b[0;34m\u001b[0m\u001b[0m\n\u001b[0m\u001b[1;32m    196\u001b[0m         \u001b[0mwidth\u001b[0m \u001b[0;34m=\u001b[0m \u001b[0mistop\u001b[0m \u001b[0;34m-\u001b[0m \u001b[0mistart\u001b[0m\u001b[0;34m\u001b[0m\u001b[0;34m\u001b[0m\u001b[0m\n\u001b[1;32m    197\u001b[0m         \u001b[0;32mif\u001b[0m \u001b[0mstep\u001b[0m \u001b[0;34m==\u001b[0m \u001b[0;36m1\u001b[0m \u001b[0;32mand\u001b[0m \u001b[0mwidth\u001b[0m \u001b[0;34m>\u001b[0m \u001b[0;36m0\u001b[0m\u001b[0;34m:\u001b[0m\u001b[0;34m\u001b[0m\u001b[0;34m\u001b[0m\u001b[0m\n",
      "\u001b[0;31mValueError\u001b[0m: non-integer stop for randrange()"
     ]
    }
   ],
   "source": [
    "random.randint(1, round(9/2))"
   ]
  },
  {
   "cell_type": "code",
   "execution_count": 86,
   "metadata": {},
   "outputs": [
    {
     "data": {
      "text/plain": [
       "1"
      ]
     },
     "execution_count": 86,
     "metadata": {},
     "output_type": "execute_result"
    }
   ],
   "source": [
    "random.randint(0,1)"
   ]
  },
  {
   "cell_type": "code",
   "execution_count": 25,
   "metadata": {},
   "outputs": [
    {
     "data": {
      "text/plain": [
       "1"
      ]
     },
     "execution_count": 25,
     "metadata": {},
     "output_type": "execute_result"
    }
   ],
   "source": [
    "product_prices.index(3)"
   ]
  },
  {
   "cell_type": "code",
   "execution_count": 26,
   "metadata": {},
   "outputs": [
    {
     "data": {
      "text/plain": [
       "[5, 3, 3, 2, 1]"
      ]
     },
     "execution_count": 26,
     "metadata": {},
     "output_type": "execute_result"
    }
   ],
   "source": [
    "product_prices"
   ]
  },
  {
   "cell_type": "code",
   "execution_count": 88,
   "metadata": {},
   "outputs": [
    {
     "data": {
      "text/plain": [
       "0.8168873814600486"
      ]
     },
     "execution_count": 88,
     "metadata": {},
     "output_type": "execute_result"
    }
   ],
   "source": [
    "np.random.rand()"
   ]
  },
  {
   "cell_type": "code",
   "execution_count": 92,
   "metadata": {},
   "outputs": [
    {
     "data": {
      "text/plain": [
       "0"
      ]
     },
     "execution_count": 92,
     "metadata": {},
     "output_type": "execute_result"
    }
   ],
   "source": [
    "return_index=[]\n",
    "sum([p for p in return_index])"
   ]
  },
  {
   "cell_type": "code",
   "execution_count": 90,
   "metadata": {},
   "outputs": [
    {
     "ename": "ValueError",
     "evalue": "Sample larger than population or is negative",
     "output_type": "error",
     "traceback": [
      "\u001b[0;31m---------------------------------------------------------------------------\u001b[0m",
      "\u001b[0;31mValueError\u001b[0m                                Traceback (most recent call last)",
      "\u001b[0;32m<ipython-input-90-9f92c17b6b5f>\u001b[0m in \u001b[0;36m<module>\u001b[0;34m\u001b[0m\n\u001b[1;32m      1\u001b[0m \u001b[0mlist1\u001b[0m \u001b[0;34m=\u001b[0m \u001b[0;34m[\u001b[0m\u001b[0;34m]\u001b[0m\u001b[0;34m\u001b[0m\u001b[0;34m\u001b[0m\u001b[0m\n\u001b[1;32m      2\u001b[0m \u001b[0;34m\u001b[0m\u001b[0m\n\u001b[0;32m----> 3\u001b[0;31m \u001b[0mrandom\u001b[0m\u001b[0;34m.\u001b[0m\u001b[0msample\u001b[0m\u001b[0;34m(\u001b[0m\u001b[0mlist1\u001b[0m\u001b[0;34m,\u001b[0m\u001b[0;36m3\u001b[0m\u001b[0;34m)\u001b[0m\u001b[0;34m\u001b[0m\u001b[0;34m\u001b[0m\u001b[0m\n\u001b[0m",
      "\u001b[0;32m~/opt/anaconda3/lib/python3.7/random.py\u001b[0m in \u001b[0;36msample\u001b[0;34m(self, population, k)\u001b[0m\n\u001b[1;32m    319\u001b[0m         \u001b[0mn\u001b[0m \u001b[0;34m=\u001b[0m \u001b[0mlen\u001b[0m\u001b[0;34m(\u001b[0m\u001b[0mpopulation\u001b[0m\u001b[0;34m)\u001b[0m\u001b[0;34m\u001b[0m\u001b[0;34m\u001b[0m\u001b[0m\n\u001b[1;32m    320\u001b[0m         \u001b[0;32mif\u001b[0m \u001b[0;32mnot\u001b[0m \u001b[0;36m0\u001b[0m \u001b[0;34m<=\u001b[0m \u001b[0mk\u001b[0m \u001b[0;34m<=\u001b[0m \u001b[0mn\u001b[0m\u001b[0;34m:\u001b[0m\u001b[0;34m\u001b[0m\u001b[0;34m\u001b[0m\u001b[0m\n\u001b[0;32m--> 321\u001b[0;31m             \u001b[0;32mraise\u001b[0m \u001b[0mValueError\u001b[0m\u001b[0;34m(\u001b[0m\u001b[0;34m\"Sample larger than population or is negative\"\u001b[0m\u001b[0;34m)\u001b[0m\u001b[0;34m\u001b[0m\u001b[0;34m\u001b[0m\u001b[0m\n\u001b[0m\u001b[1;32m    322\u001b[0m         \u001b[0mresult\u001b[0m \u001b[0;34m=\u001b[0m \u001b[0;34m[\u001b[0m\u001b[0;32mNone\u001b[0m\u001b[0;34m]\u001b[0m \u001b[0;34m*\u001b[0m \u001b[0mk\u001b[0m\u001b[0;34m\u001b[0m\u001b[0;34m\u001b[0m\u001b[0m\n\u001b[1;32m    323\u001b[0m         \u001b[0msetsize\u001b[0m \u001b[0;34m=\u001b[0m \u001b[0;36m21\u001b[0m        \u001b[0;31m# size of a small set minus size of an empty list\u001b[0m\u001b[0;34m\u001b[0m\u001b[0;34m\u001b[0m\u001b[0m\n",
      "\u001b[0;31mValueError\u001b[0m: Sample larger than population or is negative"
     ]
    }
   ],
   "source": [
    "list1 = []  \n",
    "  \n",
    "random.sample(list1,3)"
   ]
  },
  {
   "cell_type": "code",
   "execution_count": 177,
   "metadata": {},
   "outputs": [],
   "source": [
    "def user_simulator(product_prices, tra_rec_index, ins_rec_index, scenario, ins_level_rec):\n",
    "    \"\"\"\n",
    "    product_prices: a list of prices of 10 recommended products\n",
    "    tra_rec_index: a list of indices for the traditional recommended products\n",
    "    ins_rec_index: a list of indices for the inspirational recommended products\n",
    "    scenario: '1': more spontaneous,\n",
    "              '2': more planned,\n",
    "    ins_level_rec: inspirational factor the recommender used for generating the 10 rec products\n",
    "    return the index of purchased items and the total order price\n",
    "    \"\"\"\n",
    "    sort_prod_prices = product_prices.copy().sort(reverse=True)\n",
    "    if tra_rec_index == [] or ins_rec_index == []: # if either is empty, i.e., the two extreme cases\n",
    "        if np.random.rand() < 0.1:\n",
    "            return_index = random.randint(0,9)\n",
    "        else:\n",
    "            return_index = []\n",
    "    else:\n",
    "        if scenario == '1': # scenario \"spontaneous\"\n",
    "            if ins_level_rec == 0.4: # assume most users prefer 0.4 as inspiratioanl level\n",
    "                return_index = random.sample(tra_rec_index, 1) + random.sample(ins_rec_index, 1)\n",
    "            else:\n",
    "                if np.random.rand() < 0.5:\n",
    "                    return_index = random.sample(tra_rec_index, 1) + random.sample(ins_rec_index, 1)\n",
    "                else:\n",
    "                    return_index = random.sample(tra_rec_index, 1)\n",
    "        else: # scenario \"planned\"\n",
    "            if ins_level_rec == 0.1: # assume users prefer 0.1 as inspiratioanl level\n",
    "                return_index = random.sample(tra_rec_index, 1)\n",
    "            else:\n",
    "                if np.random.rand() < 0.5:\n",
    "                    return_index = random.sample(tra_rec_index, 1)\n",
    "                else:\n",
    "                    return_index = []\n",
    "        # calculate totoal order price            \n",
    "        if len(return_index) == 0:\n",
    "            return_order_price = 0\n",
    "        else:\n",
    "            return_order_price = sum([product_prices[p] for p in return_index])\n",
    "        \n",
    "        return return_index, return_order_price "
   ]
  },
  {
   "cell_type": "code",
   "execution_count": 158,
   "metadata": {},
   "outputs": [
    {
     "data": {
      "text/plain": [
       "[0, 4]"
      ]
     },
     "execution_count": 158,
     "metadata": {},
     "output_type": "execute_result"
    }
   ],
   "source": [
    "random.sample(tra_rec_index, 1) + random.sample(ins_rec_index, 1)"
   ]
  },
  {
   "cell_type": "code",
   "execution_count": 202,
   "metadata": {},
   "outputs": [],
   "source": [
    "product_prices = [1, 2, 3, 4,1,2]\n",
    "tra_rec_index= [0,1,3]\n",
    "ins_rec_index= [2,4] \n",
    "scenario = '0', \n",
    "ins_level_rec = 0.4"
   ]
  },
  {
   "cell_type": "code",
   "execution_count": 231,
   "metadata": {},
   "outputs": [
    {
     "name": "stdout",
     "output_type": "stream",
     "text": [
      "sc2\n"
     ]
    },
    {
     "data": {
      "text/plain": [
       "([], 0)"
      ]
     },
     "execution_count": 231,
     "metadata": {},
     "output_type": "execute_result"
    }
   ],
   "source": [
    "user_simulator(product_prices=product_prices, \\\n",
    "               tra_rec_index=tra_rec_index, \\\n",
    "               ins_rec_index=ins_rec_index, \\\n",
    "               scenario='0', \\\n",
    "               ins_level_rec=ins_level_rec)"
   ]
  },
  {
   "cell_type": "code",
   "execution_count": 238,
   "metadata": {},
   "outputs": [
    {
     "data": {
      "text/plain": [
       "'2020-12-03 06:33:07'"
      ]
     },
     "execution_count": 238,
     "metadata": {},
     "output_type": "execute_result"
    }
   ],
   "source": [
    "import uuid\n",
    "import datetime\n",
    "uuid.uuid4()\n",
    "now = datetime.datetime.now().strftime(\"%Y-%m-%d %H:%M:%S\")\n",
    "now"
   ]
  },
  {
   "cell_type": "code",
   "execution_count": 241,
   "metadata": {},
   "outputs": [
    {
     "data": {
      "text/plain": [
       "[19, 10, 13, 24, 25, 28, 17, 15, 12, 23]"
      ]
     },
     "execution_count": 241,
     "metadata": {},
     "output_type": "execute_result"
    }
   ],
   "source": [
    "t = random.sample(range(10, 30), 10)\n",
    "t"
   ]
  },
  {
   "cell_type": "code",
   "execution_count": 242,
   "metadata": {},
   "outputs": [],
   "source": [
    "random.sample(range(1, 10), )"
   ]
  },
  {
   "cell_type": "code",
   "execution_count": 247,
   "metadata": {},
   "outputs": [
    {
     "data": {
      "text/plain": [
       "[17]"
      ]
     },
     "execution_count": 247,
     "metadata": {},
     "output_type": "execute_result"
    }
   ],
   "source": [
    "t[:1]"
   ]
  },
  {
   "cell_type": "code",
   "execution_count": 249,
   "metadata": {},
   "outputs": [
    {
     "data": {
      "text/plain": [
       "[24]"
      ]
     },
     "execution_count": 249,
     "metadata": {},
     "output_type": "execute_result"
    }
   ],
   "source": [
    "t[9:]"
   ]
  },
  {
   "cell_type": "code",
   "execution_count": null,
   "metadata": {},
   "outputs": [],
   "source": []
  },
  {
   "cell_type": "code",
   "execution_count": 253,
   "metadata": {},
   "outputs": [
    {
     "data": {
      "text/plain": [
       "[10, 9, 7, 5, 8, 4, 6, 2, 1, 3]"
      ]
     },
     "execution_count": 253,
     "metadata": {},
     "output_type": "execute_result"
    }
   ],
   "source": [
    "random.sample(range(1, 11), 10)"
   ]
  },
  {
   "cell_type": "code",
   "execution_count": 257,
   "metadata": {},
   "outputs": [
    {
     "data": {
      "text/html": [
       "<div>\n",
       "<style scoped>\n",
       "    .dataframe tbody tr th:only-of-type {\n",
       "        vertical-align: middle;\n",
       "    }\n",
       "\n",
       "    .dataframe tbody tr th {\n",
       "        vertical-align: top;\n",
       "    }\n",
       "\n",
       "    .dataframe thead th {\n",
       "        text-align: right;\n",
       "    }\n",
       "</style>\n",
       "<table border=\"1\" class=\"dataframe\">\n",
       "  <thead>\n",
       "    <tr style=\"text-align: right;\">\n",
       "      <th></th>\n",
       "      <th>visitor_id</th>\n",
       "      <th>date_time</th>\n",
       "      <th>location</th>\n",
       "      <th>ins_factor</th>\n",
       "      <th>product_prices</th>\n",
       "      <th>tra_rec_index</th>\n",
       "      <th>ins_rec_index</th>\n",
       "      <th>order_price</th>\n",
       "    </tr>\n",
       "  </thead>\n",
       "  <tbody>\n",
       "    <tr>\n",
       "      <td>0</td>\n",
       "      <td>7026adfd-17c5-4a57-a487-9d299a59d54c</td>\n",
       "      <td>2020-12-03 06:51:44</td>\n",
       "      <td>California</td>\n",
       "      <td>8</td>\n",
       "      <td>[29, 14, 26, 23, 27, 10, 13, 17, 24, 18]</td>\n",
       "      <td>[5, 9]</td>\n",
       "      <td>[8, 10, 2, 1, 7, 6, 3, 4]</td>\n",
       "      <td>26</td>\n",
       "    </tr>\n",
       "    <tr>\n",
       "      <td>1</td>\n",
       "      <td>4c0ceaea-fcac-4a73-a02c-472864cb8bf8</td>\n",
       "      <td>2020-12-03 06:51:44</td>\n",
       "      <td>Texas</td>\n",
       "      <td>9</td>\n",
       "      <td>[23, 19, 21, 27, 18, 12, 13, 17, 11, 10]</td>\n",
       "      <td>[4]</td>\n",
       "      <td>[9, 2, 10, 3, 8, 5, 6, 7, 1]</td>\n",
       "      <td>41</td>\n",
       "    </tr>\n",
       "    <tr>\n",
       "      <td>2</td>\n",
       "      <td>000679bf-886c-4b8d-9331-bc9554145c86</td>\n",
       "      <td>2020-12-03 06:51:44</td>\n",
       "      <td>Texas</td>\n",
       "      <td>8</td>\n",
       "      <td>[19, 18, 10, 12, 23, 27, 13, 26, 22, 14]</td>\n",
       "      <td>[2, 6]</td>\n",
       "      <td>[5, 10, 3, 1, 4, 8, 7, 9]</td>\n",
       "      <td>12</td>\n",
       "    </tr>\n",
       "    <tr>\n",
       "      <td>3</td>\n",
       "      <td>8ae2e7cb-716d-4457-a250-e6e0b764239a</td>\n",
       "      <td>2020-12-03 06:51:44</td>\n",
       "      <td>Georgia</td>\n",
       "      <td>7</td>\n",
       "      <td>[14, 16, 11, 13, 22, 17, 19, 26, 29, 20]</td>\n",
       "      <td>[8, 10, 1]</td>\n",
       "      <td>[5, 7, 3, 6, 4, 9, 2]</td>\n",
       "      <td>32</td>\n",
       "    </tr>\n",
       "    <tr>\n",
       "      <td>4</td>\n",
       "      <td>5f8e1a94-fe38-4679-8691-cd455c5d73a9</td>\n",
       "      <td>2020-12-03 06:51:44</td>\n",
       "      <td>Florida</td>\n",
       "      <td>9</td>\n",
       "      <td>[28, 12, 14, 29, 20, 22, 26, 15, 17, 16]</td>\n",
       "      <td>[1]</td>\n",
       "      <td>[7, 2, 10, 3, 9, 6, 5, 4, 8]</td>\n",
       "      <td>36</td>\n",
       "    </tr>\n",
       "    <tr>\n",
       "      <td>...</td>\n",
       "      <td>...</td>\n",
       "      <td>...</td>\n",
       "      <td>...</td>\n",
       "      <td>...</td>\n",
       "      <td>...</td>\n",
       "      <td>...</td>\n",
       "      <td>...</td>\n",
       "      <td>...</td>\n",
       "    </tr>\n",
       "    <tr>\n",
       "      <td>995</td>\n",
       "      <td>2da716f0-a9f6-4cfa-b991-d1680f06ea6c</td>\n",
       "      <td>2020-12-03 06:51:48</td>\n",
       "      <td>Florida</td>\n",
       "      <td>2</td>\n",
       "      <td>[19, 28, 18, 14, 17, 10, 20, 21, 16, 29]</td>\n",
       "      <td>[7, 1, 3, 5, 6, 10, 9, 8]</td>\n",
       "      <td>[2, 4]</td>\n",
       "      <td>76</td>\n",
       "    </tr>\n",
       "    <tr>\n",
       "      <td>996</td>\n",
       "      <td>f8b9e751-2f85-4b8a-9141-170de99bf1e4</td>\n",
       "      <td>2020-12-03 06:51:48</td>\n",
       "      <td>Florida</td>\n",
       "      <td>8</td>\n",
       "      <td>[17, 26, 15, 25, 18, 13, 11, 23, 21, 12]</td>\n",
       "      <td>[7, 4]</td>\n",
       "      <td>[1, 6, 10, 8, 3, 9, 5, 2]</td>\n",
       "      <td>34</td>\n",
       "    </tr>\n",
       "    <tr>\n",
       "      <td>997</td>\n",
       "      <td>8780b402-d941-4004-9f6d-8a6594e068d8</td>\n",
       "      <td>2020-12-03 06:51:48</td>\n",
       "      <td>Florida</td>\n",
       "      <td>7</td>\n",
       "      <td>[21, 17, 14, 16, 15, 12, 26, 25, 24, 20]</td>\n",
       "      <td>[8, 9, 10]</td>\n",
       "      <td>[2, 7, 6, 1, 4, 5, 3]</td>\n",
       "      <td>57</td>\n",
       "    </tr>\n",
       "    <tr>\n",
       "      <td>998</td>\n",
       "      <td>e40ba8d0-b592-48bc-8fba-f2c897288eb6</td>\n",
       "      <td>2020-12-03 06:51:48</td>\n",
       "      <td>Georgia</td>\n",
       "      <td>9</td>\n",
       "      <td>[24, 28, 13, 19, 15, 20, 27, 22, 29, 10]</td>\n",
       "      <td>[10]</td>\n",
       "      <td>[1, 9, 3, 8, 7, 2, 5, 6, 4]</td>\n",
       "      <td>64</td>\n",
       "    </tr>\n",
       "    <tr>\n",
       "      <td>999</td>\n",
       "      <td>7414a319-ffe7-4f5f-9ffa-955dec9197b4</td>\n",
       "      <td>2020-12-03 06:51:48</td>\n",
       "      <td>New York</td>\n",
       "      <td>7</td>\n",
       "      <td>[29, 15, 23, 26, 12, 27, 20, 18, 17, 19]</td>\n",
       "      <td>[2, 10, 9]</td>\n",
       "      <td>[3, 7, 8, 6, 1, 4, 5]</td>\n",
       "      <td>36</td>\n",
       "    </tr>\n",
       "  </tbody>\n",
       "</table>\n",
       "<p>1000 rows × 8 columns</p>\n",
       "</div>"
      ],
      "text/plain": [
       "                               visitor_id            date_time    location  \\\n",
       "0    7026adfd-17c5-4a57-a487-9d299a59d54c  2020-12-03 06:51:44  California   \n",
       "1    4c0ceaea-fcac-4a73-a02c-472864cb8bf8  2020-12-03 06:51:44       Texas   \n",
       "2    000679bf-886c-4b8d-9331-bc9554145c86  2020-12-03 06:51:44       Texas   \n",
       "3    8ae2e7cb-716d-4457-a250-e6e0b764239a  2020-12-03 06:51:44     Georgia   \n",
       "4    5f8e1a94-fe38-4679-8691-cd455c5d73a9  2020-12-03 06:51:44     Florida   \n",
       "..                                    ...                  ...         ...   \n",
       "995  2da716f0-a9f6-4cfa-b991-d1680f06ea6c  2020-12-03 06:51:48     Florida   \n",
       "996  f8b9e751-2f85-4b8a-9141-170de99bf1e4  2020-12-03 06:51:48     Florida   \n",
       "997  8780b402-d941-4004-9f6d-8a6594e068d8  2020-12-03 06:51:48     Florida   \n",
       "998  e40ba8d0-b592-48bc-8fba-f2c897288eb6  2020-12-03 06:51:48     Georgia   \n",
       "999  7414a319-ffe7-4f5f-9ffa-955dec9197b4  2020-12-03 06:51:48    New York   \n",
       "\n",
       "    ins_factor                            product_prices  \\\n",
       "0            8  [29, 14, 26, 23, 27, 10, 13, 17, 24, 18]   \n",
       "1            9  [23, 19, 21, 27, 18, 12, 13, 17, 11, 10]   \n",
       "2            8  [19, 18, 10, 12, 23, 27, 13, 26, 22, 14]   \n",
       "3            7  [14, 16, 11, 13, 22, 17, 19, 26, 29, 20]   \n",
       "4            9  [28, 12, 14, 29, 20, 22, 26, 15, 17, 16]   \n",
       "..         ...                                       ...   \n",
       "995          2  [19, 28, 18, 14, 17, 10, 20, 21, 16, 29]   \n",
       "996          8  [17, 26, 15, 25, 18, 13, 11, 23, 21, 12]   \n",
       "997          7  [21, 17, 14, 16, 15, 12, 26, 25, 24, 20]   \n",
       "998          9  [24, 28, 13, 19, 15, 20, 27, 22, 29, 10]   \n",
       "999          7  [29, 15, 23, 26, 12, 27, 20, 18, 17, 19]   \n",
       "\n",
       "                 tra_rec_index                 ins_rec_index order_price  \n",
       "0                       [5, 9]     [8, 10, 2, 1, 7, 6, 3, 4]          26  \n",
       "1                          [4]  [9, 2, 10, 3, 8, 5, 6, 7, 1]          41  \n",
       "2                       [2, 6]     [5, 10, 3, 1, 4, 8, 7, 9]          12  \n",
       "3                   [8, 10, 1]         [5, 7, 3, 6, 4, 9, 2]          32  \n",
       "4                          [1]  [7, 2, 10, 3, 9, 6, 5, 4, 8]          36  \n",
       "..                         ...                           ...         ...  \n",
       "995  [7, 1, 3, 5, 6, 10, 9, 8]                        [2, 4]          76  \n",
       "996                     [7, 4]     [1, 6, 10, 8, 3, 9, 5, 2]          34  \n",
       "997                 [8, 9, 10]         [2, 7, 6, 1, 4, 5, 3]          57  \n",
       "998                       [10]   [1, 9, 3, 8, 7, 2, 5, 6, 4]          64  \n",
       "999                 [2, 10, 9]         [3, 7, 8, 6, 1, 4, 5]          36  \n",
       "\n",
       "[1000 rows x 8 columns]"
      ]
     },
     "execution_count": 257,
     "metadata": {},
     "output_type": "execute_result"
    }
   ],
   "source": [
    "# generate simulated data\n",
    "df = pd.DataFrame(columns=['visitor_id', 'date_time', \\\n",
    "                           'location', 'ins_factor', \\\n",
    "                           'product_prices', 'tra_rec_index',\\\n",
    "                           'ins_rec_index', 'order_price'])\n",
    "loc_list = ['Florida', 'Georgia', 'California', 'Texas', 'New York']\n",
    "for i in range(1000):\n",
    "    ins_factor = random.randint(1,10)\n",
    "    rec_index = random.sample(range(1, 11), 10)\n",
    "    df_delta = pd.DataFrame([[uuid.uuid4(), datetime.datetime.now().strftime(\"%Y-%m-%d %H:%M:%S\"),\\\n",
    "                              random.sample(loc_list, 1)[0], ins_factor,\\\n",
    "                              random.sample(range(10, 30), 10), rec_index[ins_factor:],\\\n",
    "                              rec_index[:ins_factor], random.randint(0,100)]],\\\n",
    "                              columns=['visitor_id', 'date_time', \\\n",
    "                              'location', 'ins_factor', \\\n",
    "                              'product_prices', 'tra_rec_index',\\\n",
    "                              'ins_rec_index', 'order_price'])\n",
    "    df = df.append(df_delta, ignore_index=True)\n",
    "df"
   ]
  },
  {
   "cell_type": "code",
   "execution_count": 264,
   "metadata": {},
   "outputs": [],
   "source": [
    "t = \"['1','2','3']\""
   ]
  },
  {
   "cell_type": "code",
   "execution_count": 265,
   "metadata": {},
   "outputs": [
    {
     "data": {
      "text/plain": [
       "['[', \"'\", '1', \"'\", ',', \"'\", '2', \"'\", ',', \"'\", '3', \"'\", ']']"
      ]
     },
     "execution_count": 265,
     "metadata": {},
     "output_type": "execute_result"
    }
   ],
   "source": [
    "list(t)"
   ]
  },
  {
   "cell_type": "code",
   "execution_count": 258,
   "metadata": {},
   "outputs": [],
   "source": [
    "df.to_csv('./simulated_data.csv')"
   ]
  },
  {
   "cell_type": "code",
   "execution_count": 263,
   "metadata": {},
   "outputs": [
    {
     "data": {
      "text/plain": [
       "10"
      ]
     },
     "execution_count": 263,
     "metadata": {},
     "output_type": "execute_result"
    }
   ],
   "source": [
    "df.ins_factor.iloc[15]"
   ]
  },
  {
   "cell_type": "code",
   "execution_count": 262,
   "metadata": {},
   "outputs": [
    {
     "data": {
      "text/plain": [
       "36"
      ]
     },
     "execution_count": 262,
     "metadata": {},
     "output_type": "execute_result"
    }
   ],
   "source": [
    "df.order_price.iloc[i]"
   ]
  },
  {
   "cell_type": "code",
   "execution_count": null,
   "metadata": {},
   "outputs": [],
   "source": []
  }
 ],
 "metadata": {
  "kernelspec": {
   "display_name": "Python 3",
   "language": "python",
   "name": "python3"
  },
  "language_info": {
   "codemirror_mode": {
    "name": "ipython",
    "version": 3
   },
   "file_extension": ".py",
   "mimetype": "text/x-python",
   "name": "python",
   "nbconvert_exporter": "python",
   "pygments_lexer": "ipython3",
   "version": "3.7.4"
  }
 },
 "nbformat": 4,
 "nbformat_minor": 2
}
